{
 "cells": [
  {
   "cell_type": "code",
   "execution_count": 90,
   "metadata": {},
   "outputs": [],
   "source": [
    "import pandas as pd\n",
    "import numpy as np\n",
    "import plotly.express as px\n",
    "import os\n",
    "import plotly.io as pio\n"
   ]
  },
  {
   "cell_type": "code",
   "execution_count": 91,
   "metadata": {},
   "outputs": [
    {
     "data": {
      "text/plain": [
       "['tracr-reverse.csv',\n",
       " 'tracr-proportion.csv',\n",
       " 'induction.csv',\n",
       " 'docstring.csv',\n",
       " 'ioi.csv',\n",
       " 'greaterthan.csv']"
      ]
     },
     "execution_count": 91,
     "metadata": {},
     "output_type": "execute_result"
    }
   ],
   "source": [
    "os.listdir(\"acdc/logs\")\n"
   ]
  },
  {
   "cell_type": "code",
   "execution_count": 59,
   "metadata": {},
   "outputs": [
    {
     "name": "stdout",
     "output_type": "stream",
     "text": [
      "tracr-reverse.csv Index(['wandb-name', 'wandb-project', 'wandb-entity', 'wandb-group', 'device',\n",
      "       'loss-type', 'threshold', 'zero-ablation', 'reset-subject', 'seed',\n",
      "       'task', 'torch-num-threads', 'model-type', 'test_kl_div', 'test_l2',\n",
      "       'score', 'number_of_edges'],\n",
      "      dtype='object') \n",
      "\n",
      "tracr-proportion.csv Index(['wandb-name', 'wandb-project', 'wandb-entity', 'wandb-group', 'device',\n",
      "       'loss-type', 'threshold', 'zero-ablation', 'reset-subject', 'seed',\n",
      "       'task', 'torch-num-threads', 'model-type', 'test_l2', 'test_kl_div',\n",
      "       'score', 'number_of_edges'],\n",
      "      dtype='object') \n",
      "\n",
      "induction.csv Index(['wandb-name', 'wandb-project', 'wandb-entity', 'wandb-group', 'device',\n",
      "       'loss-type', 'threshold', 'zero-ablation', 'reset-subject', 'seed',\n",
      "       'task', 'torch-num-threads', 'model-type', 'test_kl_div', 'test_nll',\n",
      "       'test_match_nll', 'score', 'number_of_edges'],\n",
      "      dtype='object') \n",
      "\n",
      "docstring.csv Index(['wandb-name', 'wandb-project', 'wandb-entity', 'wandb-group', 'device',\n",
      "       'loss-type', 'threshold', 'zero-ablation', 'reset-subject', 'seed',\n",
      "       'task', 'torch-num-threads', 'model-type', 'test_kl_div',\n",
      "       'test_docstring_metric', 'test_docstring_stefan', 'test_nll',\n",
      "       'test_match_nll', 'score', 'number_of_edges'],\n",
      "      dtype='object') \n",
      "\n",
      "ioi.csv Index(['wandb-name', 'wandb-project', 'wandb-entity', 'wandb-group', 'device',\n",
      "       'loss-type', 'threshold', 'zero-ablation', 'reset-subject', 'seed',\n",
      "       'task', 'torch-num-threads', 'model-type', 'test_kl_div',\n",
      "       'test_logit_diff', 'test_frac_correct', 'test_nll', 'test_match_nll',\n",
      "       'score', 'number_of_edges'],\n",
      "      dtype='object') \n",
      "\n",
      "tracr-reverse.csv Index(['wandb-name', 'wandb-project', 'wandb-entity', 'wandb-group', 'device',\n",
      "       'lr', 'loss-type', 'epochs', 'verbose', 'lambda-reg', 'zero-ablation',\n",
      "       'reset-subject', 'seed', 'num-examples', 'seq-len',\n",
      "       'n-loss-average-runs', 'task', 'torch-num-threads', 'model-type',\n",
      "       'number_of_nodes', 'specific_metric', 'nodes_to_mask', 'test_kl_div',\n",
      "       'test_l2', 'number_of_edges', 'percentage_binary'],\n",
      "      dtype='object') \n",
      "\n",
      "tracr-proportion.csv Index(['wandb-name', 'wandb-project', 'wandb-entity', 'wandb-group', 'device',\n",
      "       'lr', 'loss-type', 'epochs', 'verbose', 'lambda-reg', 'zero-ablation',\n",
      "       'reset-subject', 'seed', 'num-examples', 'seq-len',\n",
      "       'n-loss-average-runs', 'task', 'torch-num-threads', 'model-type',\n",
      "       'number_of_nodes', 'specific_metric', 'nodes_to_mask', 'test_l2',\n",
      "       'test_kl_div', 'number_of_edges', 'percentage_binary'],\n",
      "      dtype='object') \n",
      "\n",
      "docstring.csv Index(['wandb-name', 'wandb-project', 'wandb-entity', 'wandb-group', 'device',\n",
      "       'lr', 'loss-type', 'epochs', 'verbose', 'lambda-reg', 'zero-ablation',\n",
      "       'reset-subject', 'seed', 'num-examples', 'seq-len',\n",
      "       'n-loss-average-runs', 'task', 'torch-num-threads', 'model-type',\n",
      "       'number_of_nodes', 'specific_metric', 'nodes_to_mask', 'test_kl_div',\n",
      "       'test_docstring_metric', 'test_docstring_stefan', 'test_nll',\n",
      "       'test_match_nll', 'number_of_edges', 'percentage_binary'],\n",
      "      dtype='object') \n",
      "\n",
      "ioi.csv Index(['wandb-name', 'wandb-project', 'wandb-entity', 'wandb-group', 'device',\n",
      "       'lr', 'loss-type', 'epochs', 'verbose', 'lambda-reg', 'zero-ablation',\n",
      "       'reset-subject', 'seed', 'num-examples', 'seq-len',\n",
      "       'n-loss-average-runs', 'task', 'torch-num-threads', 'model-type',\n",
      "       'number_of_nodes', 'specific_metric', 'nodes_to_mask', 'test_kl_div',\n",
      "       'test_logit_diff', 'test_frac_correct', 'test_nll', 'test_match_nll',\n",
      "       'number_of_edges', 'percentage_binary'],\n",
      "      dtype='object') \n",
      "\n"
     ]
    }
   ],
   "source": [
    "dfs=[]\n",
    "for file in os.listdir(\"acdc/logs\"):\n",
    "    df = pd.read_csv(f\"acdc/logs/{file}\").drop_duplicates()\n",
    "    dfs.append(df)\n",
    "    print(file, df.columns, \"\\n\")\n",
    "records=pd.concat(dfs)\n",
    "records[\"alg\"]=\"acdc\"\n",
    "\n",
    "dfs=[]\n",
    "for file in os.listdir(\"subnetwork_probing/logs\"):\n",
    "    df = pd.read_csv(f\"subnetwork_probing/logs/{file}\").drop_duplicates()\n",
    "    dfs.append(df)\n",
    "    print(file, df.columns, \"\\n\")\n",
    "records_sp=pd.concat(dfs)\n",
    "records_sp[\"alg\"]=\"sp\""
   ]
  },
  {
   "cell_type": "code",
   "execution_count": 71,
   "metadata": {},
   "outputs": [],
   "source": [
    "all_runs_merged=pd.merge(records, records_sp,how=\"outer\", on=['alg',\n",
    " 'device',\n",
    " 'loss-type',\n",
    " 'model-type',\n",
    " 'number_of_edges',\n",
    " 'reset-subject',\n",
    " 'seed',\n",
    " 'task',\n",
    " 'test_docstring_metric',\n",
    " 'test_docstring_stefan',\n",
    " 'test_frac_correct',\n",
    " 'test_kl_div',\n",
    " 'test_l2',\n",
    " 'test_logit_diff',\n",
    " 'test_match_nll',\n",
    " 'test_nll',\n",
    " 'torch-num-threads',\n",
    " 'wandb-entity',\n",
    " 'wandb-group',\n",
    " 'wandb-name',\n",
    " 'wandb-project',\n",
    " 'zero-ablation'])"
   ]
  },
  {
   "cell_type": "code",
   "execution_count": null,
   "metadata": {},
   "outputs": [],
   "source": []
  },
  {
   "cell_type": "code",
   "execution_count": 89,
   "metadata": {},
   "outputs": [
    {
     "data": {
      "text/html": [
       "<div>\n",
       "<style scoped>\n",
       "    .dataframe tbody tr th:only-of-type {\n",
       "        vertical-align: middle;\n",
       "    }\n",
       "\n",
       "    .dataframe tbody tr th {\n",
       "        vertical-align: top;\n",
       "    }\n",
       "\n",
       "    .dataframe thead th {\n",
       "        text-align: right;\n",
       "    }\n",
       "</style>\n",
       "<table border=\"1\" class=\"dataframe\">\n",
       "  <thead>\n",
       "    <tr style=\"text-align: right;\">\n",
       "      <th></th>\n",
       "      <th></th>\n",
       "      <th></th>\n",
       "      <th></th>\n",
       "      <th>wandb-name</th>\n",
       "      <th>wandb-project</th>\n",
       "      <th>wandb-entity</th>\n",
       "      <th>wandb-group</th>\n",
       "      <th>device</th>\n",
       "      <th>loss-type</th>\n",
       "      <th>threshold</th>\n",
       "      <th>seed</th>\n",
       "      <th>torch-num-threads</th>\n",
       "      <th>model-type</th>\n",
       "      <th>...</th>\n",
       "      <th>verbose</th>\n",
       "      <th>lambda-reg</th>\n",
       "      <th>num-examples</th>\n",
       "      <th>seq-len</th>\n",
       "      <th>n-loss-average-runs</th>\n",
       "      <th>number_of_nodes</th>\n",
       "      <th>specific_metric</th>\n",
       "      <th>nodes_to_mask</th>\n",
       "      <th>percentage_binary</th>\n",
       "      <th>color</th>\n",
       "    </tr>\n",
       "    <tr>\n",
       "      <th>alg</th>\n",
       "      <th>task</th>\n",
       "      <th>zero-ablation</th>\n",
       "      <th>reset-subject</th>\n",
       "      <th></th>\n",
       "      <th></th>\n",
       "      <th></th>\n",
       "      <th></th>\n",
       "      <th></th>\n",
       "      <th></th>\n",
       "      <th></th>\n",
       "      <th></th>\n",
       "      <th></th>\n",
       "      <th></th>\n",
       "      <th></th>\n",
       "      <th></th>\n",
       "      <th></th>\n",
       "      <th></th>\n",
       "      <th></th>\n",
       "      <th></th>\n",
       "      <th></th>\n",
       "      <th></th>\n",
       "      <th></th>\n",
       "      <th></th>\n",
       "      <th></th>\n",
       "    </tr>\n",
       "  </thead>\n",
       "  <tbody>\n",
       "    <tr>\n",
       "      <th rowspan=\"9\" valign=\"top\">acdc</th>\n",
       "      <th rowspan=\"2\" valign=\"top\">docstring</th>\n",
       "      <th rowspan=\"2\" valign=\"top\">False</th>\n",
       "      <th>0</th>\n",
       "      <td>22</td>\n",
       "      <td>22</td>\n",
       "      <td>22</td>\n",
       "      <td>22</td>\n",
       "      <td>22</td>\n",
       "      <td>22</td>\n",
       "      <td>22</td>\n",
       "      <td>22</td>\n",
       "      <td>22</td>\n",
       "      <td>22</td>\n",
       "      <td>...</td>\n",
       "      <td>0</td>\n",
       "      <td>0</td>\n",
       "      <td>0</td>\n",
       "      <td>0</td>\n",
       "      <td>0</td>\n",
       "      <td>0</td>\n",
       "      <td>0</td>\n",
       "      <td>0</td>\n",
       "      <td>0</td>\n",
       "      <td>22</td>\n",
       "    </tr>\n",
       "    <tr>\n",
       "      <th>1</th>\n",
       "      <td>22</td>\n",
       "      <td>22</td>\n",
       "      <td>22</td>\n",
       "      <td>22</td>\n",
       "      <td>22</td>\n",
       "      <td>22</td>\n",
       "      <td>22</td>\n",
       "      <td>22</td>\n",
       "      <td>22</td>\n",
       "      <td>22</td>\n",
       "      <td>...</td>\n",
       "      <td>0</td>\n",
       "      <td>0</td>\n",
       "      <td>0</td>\n",
       "      <td>0</td>\n",
       "      <td>0</td>\n",
       "      <td>0</td>\n",
       "      <td>0</td>\n",
       "      <td>0</td>\n",
       "      <td>0</td>\n",
       "      <td>22</td>\n",
       "    </tr>\n",
       "    <tr>\n",
       "      <th rowspan=\"2\" valign=\"top\">induction</th>\n",
       "      <th rowspan=\"2\" valign=\"top\">False</th>\n",
       "      <th>0</th>\n",
       "      <td>22</td>\n",
       "      <td>22</td>\n",
       "      <td>22</td>\n",
       "      <td>22</td>\n",
       "      <td>22</td>\n",
       "      <td>22</td>\n",
       "      <td>22</td>\n",
       "      <td>22</td>\n",
       "      <td>22</td>\n",
       "      <td>22</td>\n",
       "      <td>...</td>\n",
       "      <td>0</td>\n",
       "      <td>0</td>\n",
       "      <td>0</td>\n",
       "      <td>0</td>\n",
       "      <td>0</td>\n",
       "      <td>0</td>\n",
       "      <td>0</td>\n",
       "      <td>0</td>\n",
       "      <td>0</td>\n",
       "      <td>22</td>\n",
       "    </tr>\n",
       "    <tr>\n",
       "      <th>1</th>\n",
       "      <td>22</td>\n",
       "      <td>22</td>\n",
       "      <td>22</td>\n",
       "      <td>22</td>\n",
       "      <td>22</td>\n",
       "      <td>22</td>\n",
       "      <td>22</td>\n",
       "      <td>22</td>\n",
       "      <td>22</td>\n",
       "      <td>22</td>\n",
       "      <td>...</td>\n",
       "      <td>0</td>\n",
       "      <td>0</td>\n",
       "      <td>0</td>\n",
       "      <td>0</td>\n",
       "      <td>0</td>\n",
       "      <td>0</td>\n",
       "      <td>0</td>\n",
       "      <td>0</td>\n",
       "      <td>0</td>\n",
       "      <td>22</td>\n",
       "    </tr>\n",
       "    <tr>\n",
       "      <th>ioi</th>\n",
       "      <th>False</th>\n",
       "      <th>1</th>\n",
       "      <td>16</td>\n",
       "      <td>16</td>\n",
       "      <td>16</td>\n",
       "      <td>16</td>\n",
       "      <td>16</td>\n",
       "      <td>16</td>\n",
       "      <td>16</td>\n",
       "      <td>16</td>\n",
       "      <td>16</td>\n",
       "      <td>16</td>\n",
       "      <td>...</td>\n",
       "      <td>0</td>\n",
       "      <td>0</td>\n",
       "      <td>0</td>\n",
       "      <td>0</td>\n",
       "      <td>0</td>\n",
       "      <td>0</td>\n",
       "      <td>0</td>\n",
       "      <td>0</td>\n",
       "      <td>0</td>\n",
       "      <td>16</td>\n",
       "    </tr>\n",
       "    <tr>\n",
       "      <th rowspan=\"2\" valign=\"top\">tracr-proportion</th>\n",
       "      <th rowspan=\"2\" valign=\"top\">False</th>\n",
       "      <th>0</th>\n",
       "      <td>11</td>\n",
       "      <td>11</td>\n",
       "      <td>11</td>\n",
       "      <td>11</td>\n",
       "      <td>11</td>\n",
       "      <td>11</td>\n",
       "      <td>11</td>\n",
       "      <td>11</td>\n",
       "      <td>11</td>\n",
       "      <td>11</td>\n",
       "      <td>...</td>\n",
       "      <td>0</td>\n",
       "      <td>0</td>\n",
       "      <td>0</td>\n",
       "      <td>0</td>\n",
       "      <td>0</td>\n",
       "      <td>0</td>\n",
       "      <td>0</td>\n",
       "      <td>0</td>\n",
       "      <td>0</td>\n",
       "      <td>11</td>\n",
       "    </tr>\n",
       "    <tr>\n",
       "      <th>1</th>\n",
       "      <td>11</td>\n",
       "      <td>11</td>\n",
       "      <td>11</td>\n",
       "      <td>11</td>\n",
       "      <td>11</td>\n",
       "      <td>11</td>\n",
       "      <td>11</td>\n",
       "      <td>11</td>\n",
       "      <td>11</td>\n",
       "      <td>11</td>\n",
       "      <td>...</td>\n",
       "      <td>0</td>\n",
       "      <td>0</td>\n",
       "      <td>0</td>\n",
       "      <td>0</td>\n",
       "      <td>0</td>\n",
       "      <td>0</td>\n",
       "      <td>0</td>\n",
       "      <td>0</td>\n",
       "      <td>0</td>\n",
       "      <td>11</td>\n",
       "    </tr>\n",
       "    <tr>\n",
       "      <th rowspan=\"2\" valign=\"top\">tracr-reverse</th>\n",
       "      <th rowspan=\"2\" valign=\"top\">False</th>\n",
       "      <th>0</th>\n",
       "      <td>11</td>\n",
       "      <td>11</td>\n",
       "      <td>11</td>\n",
       "      <td>11</td>\n",
       "      <td>11</td>\n",
       "      <td>11</td>\n",
       "      <td>11</td>\n",
       "      <td>11</td>\n",
       "      <td>11</td>\n",
       "      <td>11</td>\n",
       "      <td>...</td>\n",
       "      <td>0</td>\n",
       "      <td>0</td>\n",
       "      <td>0</td>\n",
       "      <td>0</td>\n",
       "      <td>0</td>\n",
       "      <td>0</td>\n",
       "      <td>0</td>\n",
       "      <td>0</td>\n",
       "      <td>0</td>\n",
       "      <td>11</td>\n",
       "    </tr>\n",
       "    <tr>\n",
       "      <th>1</th>\n",
       "      <td>11</td>\n",
       "      <td>11</td>\n",
       "      <td>11</td>\n",
       "      <td>11</td>\n",
       "      <td>11</td>\n",
       "      <td>11</td>\n",
       "      <td>11</td>\n",
       "      <td>11</td>\n",
       "      <td>11</td>\n",
       "      <td>11</td>\n",
       "      <td>...</td>\n",
       "      <td>0</td>\n",
       "      <td>0</td>\n",
       "      <td>0</td>\n",
       "      <td>0</td>\n",
       "      <td>0</td>\n",
       "      <td>0</td>\n",
       "      <td>0</td>\n",
       "      <td>0</td>\n",
       "      <td>0</td>\n",
       "      <td>11</td>\n",
       "    </tr>\n",
       "    <tr>\n",
       "      <th rowspan=\"8\" valign=\"top\">sp</th>\n",
       "      <th rowspan=\"2\" valign=\"top\">docstring</th>\n",
       "      <th>False</th>\n",
       "      <th>0</th>\n",
       "      <td>21</td>\n",
       "      <td>21</td>\n",
       "      <td>21</td>\n",
       "      <td>21</td>\n",
       "      <td>21</td>\n",
       "      <td>21</td>\n",
       "      <td>0</td>\n",
       "      <td>21</td>\n",
       "      <td>21</td>\n",
       "      <td>21</td>\n",
       "      <td>...</td>\n",
       "      <td>21</td>\n",
       "      <td>21</td>\n",
       "      <td>21</td>\n",
       "      <td>21</td>\n",
       "      <td>21</td>\n",
       "      <td>21</td>\n",
       "      <td>21</td>\n",
       "      <td>21</td>\n",
       "      <td>21</td>\n",
       "      <td>21</td>\n",
       "    </tr>\n",
       "    <tr>\n",
       "      <th>1</th>\n",
       "      <th>0</th>\n",
       "      <td>18</td>\n",
       "      <td>18</td>\n",
       "      <td>18</td>\n",
       "      <td>18</td>\n",
       "      <td>18</td>\n",
       "      <td>18</td>\n",
       "      <td>0</td>\n",
       "      <td>18</td>\n",
       "      <td>18</td>\n",
       "      <td>18</td>\n",
       "      <td>...</td>\n",
       "      <td>18</td>\n",
       "      <td>18</td>\n",
       "      <td>18</td>\n",
       "      <td>18</td>\n",
       "      <td>18</td>\n",
       "      <td>18</td>\n",
       "      <td>18</td>\n",
       "      <td>18</td>\n",
       "      <td>18</td>\n",
       "      <td>18</td>\n",
       "    </tr>\n",
       "    <tr>\n",
       "      <th rowspan=\"2\" valign=\"top\">ioi</th>\n",
       "      <th>False</th>\n",
       "      <th>0</th>\n",
       "      <td>18</td>\n",
       "      <td>18</td>\n",
       "      <td>18</td>\n",
       "      <td>18</td>\n",
       "      <td>18</td>\n",
       "      <td>18</td>\n",
       "      <td>0</td>\n",
       "      <td>18</td>\n",
       "      <td>18</td>\n",
       "      <td>18</td>\n",
       "      <td>...</td>\n",
       "      <td>18</td>\n",
       "      <td>18</td>\n",
       "      <td>18</td>\n",
       "      <td>18</td>\n",
       "      <td>18</td>\n",
       "      <td>18</td>\n",
       "      <td>18</td>\n",
       "      <td>18</td>\n",
       "      <td>18</td>\n",
       "      <td>18</td>\n",
       "    </tr>\n",
       "    <tr>\n",
       "      <th>1</th>\n",
       "      <th>0</th>\n",
       "      <td>3</td>\n",
       "      <td>3</td>\n",
       "      <td>3</td>\n",
       "      <td>3</td>\n",
       "      <td>3</td>\n",
       "      <td>3</td>\n",
       "      <td>0</td>\n",
       "      <td>3</td>\n",
       "      <td>3</td>\n",
       "      <td>3</td>\n",
       "      <td>...</td>\n",
       "      <td>3</td>\n",
       "      <td>3</td>\n",
       "      <td>3</td>\n",
       "      <td>3</td>\n",
       "      <td>3</td>\n",
       "      <td>3</td>\n",
       "      <td>3</td>\n",
       "      <td>3</td>\n",
       "      <td>3</td>\n",
       "      <td>3</td>\n",
       "    </tr>\n",
       "    <tr>\n",
       "      <th rowspan=\"2\" valign=\"top\">tracr-proportion</th>\n",
       "      <th>False</th>\n",
       "      <th>0</th>\n",
       "      <td>12</td>\n",
       "      <td>12</td>\n",
       "      <td>12</td>\n",
       "      <td>12</td>\n",
       "      <td>12</td>\n",
       "      <td>12</td>\n",
       "      <td>0</td>\n",
       "      <td>12</td>\n",
       "      <td>12</td>\n",
       "      <td>12</td>\n",
       "      <td>...</td>\n",
       "      <td>12</td>\n",
       "      <td>12</td>\n",
       "      <td>12</td>\n",
       "      <td>12</td>\n",
       "      <td>12</td>\n",
       "      <td>12</td>\n",
       "      <td>12</td>\n",
       "      <td>12</td>\n",
       "      <td>12</td>\n",
       "      <td>12</td>\n",
       "    </tr>\n",
       "    <tr>\n",
       "      <th>1</th>\n",
       "      <th>0</th>\n",
       "      <td>12</td>\n",
       "      <td>12</td>\n",
       "      <td>12</td>\n",
       "      <td>12</td>\n",
       "      <td>12</td>\n",
       "      <td>12</td>\n",
       "      <td>0</td>\n",
       "      <td>12</td>\n",
       "      <td>12</td>\n",
       "      <td>12</td>\n",
       "      <td>...</td>\n",
       "      <td>12</td>\n",
       "      <td>12</td>\n",
       "      <td>12</td>\n",
       "      <td>12</td>\n",
       "      <td>12</td>\n",
       "      <td>12</td>\n",
       "      <td>12</td>\n",
       "      <td>12</td>\n",
       "      <td>12</td>\n",
       "      <td>12</td>\n",
       "    </tr>\n",
       "    <tr>\n",
       "      <th rowspan=\"2\" valign=\"top\">tracr-reverse</th>\n",
       "      <th>False</th>\n",
       "      <th>0</th>\n",
       "      <td>6</td>\n",
       "      <td>6</td>\n",
       "      <td>6</td>\n",
       "      <td>6</td>\n",
       "      <td>6</td>\n",
       "      <td>6</td>\n",
       "      <td>0</td>\n",
       "      <td>6</td>\n",
       "      <td>6</td>\n",
       "      <td>6</td>\n",
       "      <td>...</td>\n",
       "      <td>6</td>\n",
       "      <td>6</td>\n",
       "      <td>6</td>\n",
       "      <td>6</td>\n",
       "      <td>6</td>\n",
       "      <td>6</td>\n",
       "      <td>6</td>\n",
       "      <td>6</td>\n",
       "      <td>6</td>\n",
       "      <td>6</td>\n",
       "    </tr>\n",
       "    <tr>\n",
       "      <th>1</th>\n",
       "      <th>0</th>\n",
       "      <td>6</td>\n",
       "      <td>6</td>\n",
       "      <td>6</td>\n",
       "      <td>6</td>\n",
       "      <td>6</td>\n",
       "      <td>6</td>\n",
       "      <td>0</td>\n",
       "      <td>6</td>\n",
       "      <td>6</td>\n",
       "      <td>6</td>\n",
       "      <td>...</td>\n",
       "      <td>6</td>\n",
       "      <td>6</td>\n",
       "      <td>6</td>\n",
       "      <td>6</td>\n",
       "      <td>6</td>\n",
       "      <td>6</td>\n",
       "      <td>6</td>\n",
       "      <td>6</td>\n",
       "      <td>6</td>\n",
       "      <td>6</td>\n",
       "    </tr>\n",
       "  </tbody>\n",
       "</table>\n",
       "<p>17 rows × 32 columns</p>\n",
       "</div>"
      ],
      "text/plain": [
       "                                                   wandb-name  wandb-project  \\\n",
       "alg  task             zero-ablation reset-subject                              \n",
       "acdc docstring        False         0                      22             22   \n",
       "                                    1                      22             22   \n",
       "     induction        False         0                      22             22   \n",
       "                                    1                      22             22   \n",
       "     ioi              False         1                      16             16   \n",
       "     tracr-proportion False         0                      11             11   \n",
       "                                    1                      11             11   \n",
       "     tracr-reverse    False         0                      11             11   \n",
       "                                    1                      11             11   \n",
       "sp   docstring        False         0                      21             21   \n",
       "                      1             0                      18             18   \n",
       "     ioi              False         0                      18             18   \n",
       "                      1             0                       3              3   \n",
       "     tracr-proportion False         0                      12             12   \n",
       "                      1             0                      12             12   \n",
       "     tracr-reverse    False         0                       6              6   \n",
       "                      1             0                       6              6   \n",
       "\n",
       "                                                   wandb-entity  wandb-group  \\\n",
       "alg  task             zero-ablation reset-subject                              \n",
       "acdc docstring        False         0                        22           22   \n",
       "                                    1                        22           22   \n",
       "     induction        False         0                        22           22   \n",
       "                                    1                        22           22   \n",
       "     ioi              False         1                        16           16   \n",
       "     tracr-proportion False         0                        11           11   \n",
       "                                    1                        11           11   \n",
       "     tracr-reverse    False         0                        11           11   \n",
       "                                    1                        11           11   \n",
       "sp   docstring        False         0                        21           21   \n",
       "                      1             0                        18           18   \n",
       "     ioi              False         0                        18           18   \n",
       "                      1             0                         3            3   \n",
       "     tracr-proportion False         0                        12           12   \n",
       "                      1             0                        12           12   \n",
       "     tracr-reverse    False         0                         6            6   \n",
       "                      1             0                         6            6   \n",
       "\n",
       "                                                   device  loss-type  \\\n",
       "alg  task             zero-ablation reset-subject                      \n",
       "acdc docstring        False         0                  22         22   \n",
       "                                    1                  22         22   \n",
       "     induction        False         0                  22         22   \n",
       "                                    1                  22         22   \n",
       "     ioi              False         1                  16         16   \n",
       "     tracr-proportion False         0                  11         11   \n",
       "                                    1                  11         11   \n",
       "     tracr-reverse    False         0                  11         11   \n",
       "                                    1                  11         11   \n",
       "sp   docstring        False         0                  21         21   \n",
       "                      1             0                  18         18   \n",
       "     ioi              False         0                  18         18   \n",
       "                      1             0                   3          3   \n",
       "     tracr-proportion False         0                  12         12   \n",
       "                      1             0                  12         12   \n",
       "     tracr-reverse    False         0                   6          6   \n",
       "                      1             0                   6          6   \n",
       "\n",
       "                                                   threshold  seed  \\\n",
       "alg  task             zero-ablation reset-subject                    \n",
       "acdc docstring        False         0                     22    22   \n",
       "                                    1                     22    22   \n",
       "     induction        False         0                     22    22   \n",
       "                                    1                     22    22   \n",
       "     ioi              False         1                     16    16   \n",
       "     tracr-proportion False         0                     11    11   \n",
       "                                    1                     11    11   \n",
       "     tracr-reverse    False         0                     11    11   \n",
       "                                    1                     11    11   \n",
       "sp   docstring        False         0                      0    21   \n",
       "                      1             0                      0    18   \n",
       "     ioi              False         0                      0    18   \n",
       "                      1             0                      0     3   \n",
       "     tracr-proportion False         0                      0    12   \n",
       "                      1             0                      0    12   \n",
       "     tracr-reverse    False         0                      0     6   \n",
       "                      1             0                      0     6   \n",
       "\n",
       "                                                   torch-num-threads  \\\n",
       "alg  task             zero-ablation reset-subject                      \n",
       "acdc docstring        False         0                             22   \n",
       "                                    1                             22   \n",
       "     induction        False         0                             22   \n",
       "                                    1                             22   \n",
       "     ioi              False         1                             16   \n",
       "     tracr-proportion False         0                             11   \n",
       "                                    1                             11   \n",
       "     tracr-reverse    False         0                             11   \n",
       "                                    1                             11   \n",
       "sp   docstring        False         0                             21   \n",
       "                      1             0                             18   \n",
       "     ioi              False         0                             18   \n",
       "                      1             0                              3   \n",
       "     tracr-proportion False         0                             12   \n",
       "                      1             0                             12   \n",
       "     tracr-reverse    False         0                              6   \n",
       "                      1             0                              6   \n",
       "\n",
       "                                                   model-type  ...  verbose  \\\n",
       "alg  task             zero-ablation reset-subject              ...            \n",
       "acdc docstring        False         0                      22  ...        0   \n",
       "                                    1                      22  ...        0   \n",
       "     induction        False         0                      22  ...        0   \n",
       "                                    1                      22  ...        0   \n",
       "     ioi              False         1                      16  ...        0   \n",
       "     tracr-proportion False         0                      11  ...        0   \n",
       "                                    1                      11  ...        0   \n",
       "     tracr-reverse    False         0                      11  ...        0   \n",
       "                                    1                      11  ...        0   \n",
       "sp   docstring        False         0                      21  ...       21   \n",
       "                      1             0                      18  ...       18   \n",
       "     ioi              False         0                      18  ...       18   \n",
       "                      1             0                       3  ...        3   \n",
       "     tracr-proportion False         0                      12  ...       12   \n",
       "                      1             0                      12  ...       12   \n",
       "     tracr-reverse    False         0                       6  ...        6   \n",
       "                      1             0                       6  ...        6   \n",
       "\n",
       "                                                   lambda-reg  num-examples  \\\n",
       "alg  task             zero-ablation reset-subject                             \n",
       "acdc docstring        False         0                       0             0   \n",
       "                                    1                       0             0   \n",
       "     induction        False         0                       0             0   \n",
       "                                    1                       0             0   \n",
       "     ioi              False         1                       0             0   \n",
       "     tracr-proportion False         0                       0             0   \n",
       "                                    1                       0             0   \n",
       "     tracr-reverse    False         0                       0             0   \n",
       "                                    1                       0             0   \n",
       "sp   docstring        False         0                      21            21   \n",
       "                      1             0                      18            18   \n",
       "     ioi              False         0                      18            18   \n",
       "                      1             0                       3             3   \n",
       "     tracr-proportion False         0                      12            12   \n",
       "                      1             0                      12            12   \n",
       "     tracr-reverse    False         0                       6             6   \n",
       "                      1             0                       6             6   \n",
       "\n",
       "                                                   seq-len  \\\n",
       "alg  task             zero-ablation reset-subject            \n",
       "acdc docstring        False         0                    0   \n",
       "                                    1                    0   \n",
       "     induction        False         0                    0   \n",
       "                                    1                    0   \n",
       "     ioi              False         1                    0   \n",
       "     tracr-proportion False         0                    0   \n",
       "                                    1                    0   \n",
       "     tracr-reverse    False         0                    0   \n",
       "                                    1                    0   \n",
       "sp   docstring        False         0                   21   \n",
       "                      1             0                   18   \n",
       "     ioi              False         0                   18   \n",
       "                      1             0                    3   \n",
       "     tracr-proportion False         0                   12   \n",
       "                      1             0                   12   \n",
       "     tracr-reverse    False         0                    6   \n",
       "                      1             0                    6   \n",
       "\n",
       "                                                   n-loss-average-runs  \\\n",
       "alg  task             zero-ablation reset-subject                        \n",
       "acdc docstring        False         0                                0   \n",
       "                                    1                                0   \n",
       "     induction        False         0                                0   \n",
       "                                    1                                0   \n",
       "     ioi              False         1                                0   \n",
       "     tracr-proportion False         0                                0   \n",
       "                                    1                                0   \n",
       "     tracr-reverse    False         0                                0   \n",
       "                                    1                                0   \n",
       "sp   docstring        False         0                               21   \n",
       "                      1             0                               18   \n",
       "     ioi              False         0                               18   \n",
       "                      1             0                                3   \n",
       "     tracr-proportion False         0                               12   \n",
       "                      1             0                               12   \n",
       "     tracr-reverse    False         0                                6   \n",
       "                      1             0                                6   \n",
       "\n",
       "                                                   number_of_nodes  \\\n",
       "alg  task             zero-ablation reset-subject                    \n",
       "acdc docstring        False         0                            0   \n",
       "                                    1                            0   \n",
       "     induction        False         0                            0   \n",
       "                                    1                            0   \n",
       "     ioi              False         1                            0   \n",
       "     tracr-proportion False         0                            0   \n",
       "                                    1                            0   \n",
       "     tracr-reverse    False         0                            0   \n",
       "                                    1                            0   \n",
       "sp   docstring        False         0                           21   \n",
       "                      1             0                           18   \n",
       "     ioi              False         0                           18   \n",
       "                      1             0                            3   \n",
       "     tracr-proportion False         0                           12   \n",
       "                      1             0                           12   \n",
       "     tracr-reverse    False         0                            6   \n",
       "                      1             0                            6   \n",
       "\n",
       "                                                   specific_metric  \\\n",
       "alg  task             zero-ablation reset-subject                    \n",
       "acdc docstring        False         0                            0   \n",
       "                                    1                            0   \n",
       "     induction        False         0                            0   \n",
       "                                    1                            0   \n",
       "     ioi              False         1                            0   \n",
       "     tracr-proportion False         0                            0   \n",
       "                                    1                            0   \n",
       "     tracr-reverse    False         0                            0   \n",
       "                                    1                            0   \n",
       "sp   docstring        False         0                           21   \n",
       "                      1             0                           18   \n",
       "     ioi              False         0                           18   \n",
       "                      1             0                            3   \n",
       "     tracr-proportion False         0                           12   \n",
       "                      1             0                           12   \n",
       "     tracr-reverse    False         0                            6   \n",
       "                      1             0                            6   \n",
       "\n",
       "                                                   nodes_to_mask  \\\n",
       "alg  task             zero-ablation reset-subject                  \n",
       "acdc docstring        False         0                          0   \n",
       "                                    1                          0   \n",
       "     induction        False         0                          0   \n",
       "                                    1                          0   \n",
       "     ioi              False         1                          0   \n",
       "     tracr-proportion False         0                          0   \n",
       "                                    1                          0   \n",
       "     tracr-reverse    False         0                          0   \n",
       "                                    1                          0   \n",
       "sp   docstring        False         0                         21   \n",
       "                      1             0                         18   \n",
       "     ioi              False         0                         18   \n",
       "                      1             0                          3   \n",
       "     tracr-proportion False         0                         12   \n",
       "                      1             0                         12   \n",
       "     tracr-reverse    False         0                          6   \n",
       "                      1             0                          6   \n",
       "\n",
       "                                                   percentage_binary  color  \n",
       "alg  task             zero-ablation reset-subject                            \n",
       "acdc docstring        False         0                              0     22  \n",
       "                                    1                              0     22  \n",
       "     induction        False         0                              0     22  \n",
       "                                    1                              0     22  \n",
       "     ioi              False         1                              0     16  \n",
       "     tracr-proportion False         0                              0     11  \n",
       "                                    1                              0     11  \n",
       "     tracr-reverse    False         0                              0     11  \n",
       "                                    1                              0     11  \n",
       "sp   docstring        False         0                             21     21  \n",
       "                      1             0                             18     18  \n",
       "     ioi              False         0                             18     18  \n",
       "                      1             0                              3      3  \n",
       "     tracr-proportion False         0                             12     12  \n",
       "                      1             0                             12     12  \n",
       "     tracr-reverse    False         0                              6      6  \n",
       "                      1             0                              6      6  \n",
       "\n",
       "[17 rows x 32 columns]"
      ]
     },
     "execution_count": 89,
     "metadata": {},
     "output_type": "execute_result"
    }
   ],
   "source": [
    "all_runs_merged.groupby([\"alg\",\"task\",\"zero-ablation\",\"reset-subject\"]).count()"
   ]
  },
  {
   "cell_type": "code",
   "execution_count": 48,
   "metadata": {},
   "outputs": [],
   "source": [
    "# all_runs = pd.concat([records,records_sp])"
   ]
  },
  {
   "cell_type": "code",
   "execution_count": 85,
   "metadata": {},
   "outputs": [],
   "source": [
    "all_runs_merged.loc[:, \"color\"] = all_runs_merged.apply(lambda x: f\"{x['alg']}\", axis=1)\n"
   ]
  },
  {
   "cell_type": "code",
   "execution_count": 86,
   "metadata": {},
   "outputs": [
    {
     "data": {
      "application/vnd.plotly.v1+json": {
       "config": {
        "plotlyServerURL": "https://plot.ly"
       },
       "data": [
        {
         "customdata": [
          [
           0.00001,
           null
          ],
          [
           0.000025118864315095825,
           null
          ],
          [
           0.00006309573444801929,
           null
          ],
          [
           0.0001584893192461,
           null
          ],
          [
           0.0003981071705534,
           null
          ],
          [
           0.001,
           null
          ],
          [
           0.0025118864315095,
           null
          ],
          [
           0.0063095734448019,
           null
          ],
          [
           0.0158489319246111,
           null
          ],
          [
           0.0398107170553497,
           null
          ],
          [
           0.1,
           null
          ],
          [
           0.00001,
           null
          ],
          [
           0.000025118864315095825,
           null
          ],
          [
           0.00006309573444801929,
           null
          ],
          [
           0.0001584893192461,
           null
          ],
          [
           0.0003981071705534,
           null
          ],
          [
           0.001,
           null
          ],
          [
           0.0025118864315095,
           null
          ],
          [
           0.0063095734448019,
           null
          ],
          [
           0.0158489319246111,
           null
          ],
          [
           0.0398107170553497,
           null
          ],
          [
           0.1,
           null
          ]
         ],
         "hovertemplate": "color=acdc<br>task=tracr-reverse<br>zero-ablation=False<br>number_of_edges=%{x}<br>test_kl_div=%{y}<br>threshold=%{customdata[0]}<br>lambda-reg=%{customdata[1]}<extra></extra>",
         "legendgroup": "acdc",
         "marker": {
          "color": "red",
          "symbol": "circle"
         },
         "mode": "markers",
         "name": "acdc",
         "orientation": "v",
         "showlegend": true,
         "type": "scatter",
         "x": [
          9,
          9,
          9,
          9,
          9,
          9,
          9,
          9,
          9,
          9,
          9,
          0,
          0,
          0,
          0,
          0,
          0,
          0,
          0,
          0,
          0,
          0
         ],
         "xaxis": "x9",
         "y": [
          0,
          0,
          0,
          0,
          0,
          0,
          0,
          0,
          0,
          0,
          0,
          0.0924632772803306,
          0.0924632772803306,
          0.0924632772803306,
          0.0924632772803306,
          0.0924632772803306,
          0.0924632772803306,
          0.0924632772803306,
          0.0924632772803306,
          0.0924632772803306,
          0.0924632772803306,
          0.0924632772803306
         ],
         "yaxis": "y9"
        },
        {
         "customdata": [
          [
           0.00001,
           null
          ],
          [
           0.000025118864315095825,
           null
          ],
          [
           0.00006309573444801929,
           null
          ],
          [
           0.0001584893192461,
           null
          ],
          [
           0.0003981071705534,
           null
          ],
          [
           0.001,
           null
          ],
          [
           0.0025118864315095,
           null
          ],
          [
           0.0063095734448019,
           null
          ],
          [
           0.0158489319246111,
           null
          ],
          [
           0.0398107170553497,
           null
          ],
          [
           0.1,
           null
          ],
          [
           0.00001,
           null
          ],
          [
           0.000025118864315095825,
           null
          ],
          [
           0.00006309573444801929,
           null
          ],
          [
           0.0001584893192461,
           null
          ],
          [
           0.0003981071705534,
           null
          ],
          [
           0.001,
           null
          ],
          [
           0.0025118864315095,
           null
          ],
          [
           0.0063095734448019,
           null
          ],
          [
           0.0158489319246111,
           null
          ],
          [
           0.0398107170553497,
           null
          ],
          [
           0.1,
           null
          ]
         ],
         "hovertemplate": "color=acdc<br>task=tracr-proportion<br>zero-ablation=False<br>number_of_edges=%{x}<br>test_kl_div=%{y}<br>threshold=%{customdata[0]}<br>lambda-reg=%{customdata[1]}<extra></extra>",
         "legendgroup": "acdc",
         "marker": {
          "color": "red",
          "symbol": "circle"
         },
         "mode": "markers",
         "name": "acdc",
         "orientation": "v",
         "showlegend": false,
         "type": "scatter",
         "x": [
          9,
          9,
          9,
          9,
          9,
          9,
          9,
          9,
          9,
          9,
          8,
          0,
          0,
          0,
          0,
          0,
          0,
          0,
          0,
          0,
          0,
          0
         ],
         "xaxis": "x7",
         "y": [
          0.2003405690193176,
          0.1981358081102371,
          0.1990756392478943,
          0.1992510259151458,
          0.2004032135009765,
          0.1985094100236892,
          0.2006339579820633,
          0.1982488632202148,
          0.1994872242212295,
          0.1971749514341354,
          0.2066086232662201,
          0.2086482644081115,
          0.210270807147026,
          0.2091777175664901,
          0.2091699540615081,
          0.2104552090167999,
          0.2121556103229522,
          0.209112599492073,
          0.2113324552774429,
          0.210691437125206,
          0.2107939720153808,
          0.2086642682552337
         ],
         "yaxis": "y7"
        },
        {
         "customdata": [
          [
           0.0001,
           null
          ],
          [
           0.0002511886431509,
           null
          ],
          [
           0.0006309573444801,
           null
          ],
          [
           0.0015848931924611,
           null
          ],
          [
           0.0039810717055349,
           null
          ],
          [
           0.01,
           null
          ],
          [
           0.0251188643150958,
           null
          ],
          [
           0.0630957344480193,
           null
          ],
          [
           0.1584893192461114,
           null
          ],
          [
           0.3981071705534973,
           null
          ],
          [
           1,
           null
          ],
          [
           0.0001,
           null
          ],
          [
           0.0002511886431509,
           null
          ],
          [
           0.0006309573444801,
           null
          ],
          [
           0.0015848931924611,
           null
          ],
          [
           0.0039810717055349,
           null
          ],
          [
           0.01,
           null
          ],
          [
           0.0251188643150958,
           null
          ],
          [
           0.0630957344480193,
           null
          ],
          [
           0.1584893192461114,
           null
          ],
          [
           0.3981071705534973,
           null
          ],
          [
           1,
           null
          ],
          [
           0.0001,
           null
          ],
          [
           0.0002511886431509,
           null
          ],
          [
           0.0006309573444801,
           null
          ],
          [
           0.0015848931924611,
           null
          ],
          [
           0.0039810717055349,
           null
          ],
          [
           0.01,
           null
          ],
          [
           0.0251188643150958,
           null
          ],
          [
           0.0630957344480193,
           null
          ],
          [
           0.1584893192461114,
           null
          ],
          [
           0.3981071705534973,
           null
          ],
          [
           1,
           null
          ],
          [
           0.0001,
           null
          ],
          [
           0.0002511886431509,
           null
          ],
          [
           0.0006309573444801,
           null
          ],
          [
           0.0015848931924611,
           null
          ],
          [
           0.0039810717055349,
           null
          ],
          [
           0.01,
           null
          ],
          [
           0.0251188643150958,
           null
          ],
          [
           0.0630957344480193,
           null
          ],
          [
           0.1584893192461114,
           null
          ],
          [
           0.3981071705534973,
           null
          ],
          [
           1,
           null
          ]
         ],
         "hovertemplate": "color=acdc<br>task=induction<br>zero-ablation=False<br>number_of_edges=%{x}<br>test_kl_div=%{y}<br>threshold=%{customdata[0]}<br>lambda-reg=%{customdata[1]}<extra></extra>",
         "legendgroup": "acdc",
         "marker": {
          "color": "red",
          "symbol": "circle"
         },
         "mode": "markers",
         "name": "acdc",
         "orientation": "v",
         "showlegend": false,
         "type": "scatter",
         "x": [
          298,
          270,
          225,
          179,
          140,
          108,
          92,
          73,
          57,
          47,
          8,
          293,
          293,
          261,
          226,
          153,
          117,
          85,
          73,
          55,
          47,
          8,
          304,
          302,
          298,
          287,
          229,
          158,
          78,
          34,
          2,
          1,
          1,
          305,
          303,
          298,
          291,
          252,
          189,
          99,
          34,
          2,
          1,
          1
         ],
         "xaxis": "x5",
         "y": [
          0.0014553070068359,
          0.012786865234375,
          0.0311737060546875,
          0.07696533203125,
          0.21630859375,
          0.27587890625,
          0.55859375,
          0.97900390625,
          2.404296875,
          6.20703125,
          11.2421875,
          0.0073776245117187,
          0.0073776245117187,
          0.06842041015625,
          0.09832763671875,
          0.20361328125,
          0.448974609375,
          0.6708984375,
          1.0546875,
          2.419921875,
          6.0546875,
          11.2421875,
          15.225462913513184,
          15.223413467407228,
          15.196480751037598,
          15.171116828918455,
          14.956997871398926,
          14.836201667785645,
          14.73414707183838,
          14.901293754577637,
          14.929838180541992,
          14.929838180541992,
          14.929838180541992,
          15.230732917785645,
          15.250551223754885,
          15.200499534606934,
          15.193802833557127,
          15.128796577453612,
          15.114730834960938,
          15.077420234680176,
          14.901293754577637,
          14.929838180541992,
          14.929838180541992,
          14.929838180541992
         ],
         "yaxis": "y5"
        },
        {
         "customdata": [
          [
           0.0001,
           null
          ],
          [
           0.0002511886431509,
           null
          ],
          [
           0.0006309573444801,
           null
          ],
          [
           0.0015848931924611,
           null
          ],
          [
           0.0039810717055349,
           null
          ],
          [
           0.01,
           null
          ],
          [
           0.0251188643150958,
           null
          ],
          [
           0.0630957344480193,
           null
          ],
          [
           0.1584893192461114,
           null
          ],
          [
           0.3981071705534973,
           null
          ],
          [
           1,
           null
          ],
          [
           0.0001,
           null
          ],
          [
           0.0002511886431509,
           null
          ],
          [
           0.0006309573444801,
           null
          ],
          [
           0.0015848931924611,
           null
          ],
          [
           0.0039810717055349,
           null
          ],
          [
           0.01,
           null
          ],
          [
           0.0251188643150958,
           null
          ],
          [
           0.0630957344480193,
           null
          ],
          [
           0.1584893192461114,
           null
          ],
          [
           0.3981071705534973,
           null
          ],
          [
           1,
           null
          ],
          [
           0.0001,
           null
          ],
          [
           0.0002511886431509,
           null
          ],
          [
           0.0006309573444801,
           null
          ],
          [
           0.0015848931924611,
           null
          ],
          [
           0.0039810717055349,
           null
          ],
          [
           0.01,
           null
          ],
          [
           0.0251188643150958,
           null
          ],
          [
           0.0630957344480193,
           null
          ],
          [
           0.1584893192461114,
           null
          ],
          [
           0.3981071705534973,
           null
          ],
          [
           1,
           null
          ],
          [
           0.0001,
           null
          ],
          [
           0.0002511886431509,
           null
          ],
          [
           0.0006309573444801,
           null
          ],
          [
           0.0015848931924611,
           null
          ],
          [
           0.0039810717055349,
           null
          ],
          [
           0.01,
           null
          ],
          [
           0.0251188643150958,
           null
          ],
          [
           0.0630957344480193,
           null
          ],
          [
           0.1584893192461114,
           null
          ],
          [
           0.3981071705534973,
           null
          ],
          [
           1,
           null
          ]
         ],
         "hovertemplate": "color=acdc<br>task=docstring<br>zero-ablation=False<br>number_of_edges=%{x}<br>test_kl_div=%{y}<br>threshold=%{customdata[0]}<br>lambda-reg=%{customdata[1]}<extra></extra>",
         "legendgroup": "acdc",
         "marker": {
          "color": "red",
          "symbol": "circle"
         },
         "mode": "markers",
         "name": "acdc",
         "orientation": "v",
         "showlegend": false,
         "type": "scatter",
         "x": [
          867,
          683,
          518,
          362,
          217,
          123,
          81,
          44,
          21,
          8,
          2,
          1304,
          1244,
          1139,
          961,
          681,
          404,
          187,
          110,
          58,
          34,
          7,
          1091,
          778,
          424,
          124,
          27,
          3,
          0,
          0,
          0,
          0,
          0,
          1117,
          843,
          502,
          160,
          45,
          2,
          0,
          0,
          0,
          0,
          0
         ],
         "xaxis": "x3",
         "y": [
          0.0411253236234188,
          0.096704214811325,
          0.1502548158168792,
          0.2738040685653686,
          0.3248684704303741,
          0.5486306548118591,
          0.8299990892410278,
          1.3802651166915894,
          2.0682120323181152,
          2.1202938556671143,
          3.989950180053711,
          0.005355002824217,
          0.023318700492382,
          0.0351458936929702,
          0.0831235125660896,
          0.1970751732587814,
          0.3340556919574737,
          0.5940326452255249,
          1.0129742622375488,
          1.4154644012451172,
          1.693550705909729,
          2.9607603549957275,
          9.257960319519045,
          9.25967788696289,
          9.270606994628906,
          9.363995552062988,
          9.32015895843506,
          9.337029457092283,
          9.337029457092283,
          9.337029457092283,
          9.337029457092283,
          9.337029457092283,
          9.337029457092283,
          9.225218772888184,
          9.223600387573242,
          9.288415908813477,
          9.2936372756958,
          9.35014533996582,
          9.337029457092283,
          9.337029457092283,
          9.337029457092283,
          9.337029457092283,
          9.337029457092283,
          9.337029457092283
         ],
         "yaxis": "y3"
        },
        {
         "customdata": [
          [
           0.000001,
           null
          ],
          [
           0.0000025118864315095823,
           null
          ],
          [
           0.00000630957344480193,
           null
          ],
          [
           0.00001584893192461114,
           null
          ],
          [
           0.000039810717055349695,
           null
          ],
          [
           0.0001,
           null
          ],
          [
           0.0002511886431509,
           null
          ],
          [
           0.0006309573444801,
           null
          ],
          [
           0.0015848931924611,
           null
          ],
          [
           0.0039810717055349,
           null
          ],
          [
           0.01,
           null
          ],
          [
           0.0251188643150958,
           null
          ],
          [
           0.0630957344480194,
           null
          ],
          [
           0.1584893192461114,
           null
          ],
          [
           0.3981071705534977,
           null
          ],
          [
           1,
           null
          ]
         ],
         "hovertemplate": "color=acdc<br>task=ioi<br>zero-ablation=False<br>number_of_edges=%{x}<br>test_kl_div=%{y}<br>threshold=%{customdata[0]}<br>lambda-reg=%{customdata[1]}<extra></extra>",
         "legendgroup": "acdc",
         "marker": {
          "color": "red",
          "symbol": "circle"
         },
         "mode": "markers",
         "name": "acdc",
         "orientation": "v",
         "showlegend": false,
         "type": "scatter",
         "x": [
          3,
          3,
          3,
          3,
          3,
          3,
          3,
          3,
          3,
          3,
          3,
          3,
          0,
          0,
          0,
          0
         ],
         "xaxis": "x",
         "y": [
          12.75,
          12.75,
          12.75,
          12.75,
          12.75,
          12.75,
          12.75,
          12.75,
          12.75,
          12.75,
          12.75,
          12.75,
          12.75,
          12.75,
          12.75,
          12.75
         ],
         "yaxis": "y"
        },
        {
         "customdata": [
          [
           null,
           0.001
          ],
          [
           null,
           0.004
          ],
          [
           null,
           0.016
          ],
          [
           null,
           0.063
          ],
          [
           null,
           0.251
          ],
          [
           null,
           1
          ]
         ],
         "hovertemplate": "color=sp<br>task=tracr-reverse<br>zero-ablation=False<br>number_of_edges=%{x}<br>test_kl_div=%{y}<br>threshold=%{customdata[0]}<br>lambda-reg=%{customdata[1]}<extra></extra>",
         "legendgroup": "sp",
         "marker": {
          "color": "#00cc96",
          "symbol": "circle"
         },
         "mode": "markers",
         "name": "sp",
         "orientation": "v",
         "showlegend": true,
         "type": "scatter",
         "x": [
          9,
          9,
          9,
          9,
          9,
          9
         ],
         "xaxis": "x9",
         "y": [
          0.0078056077618384,
          0.1132855731993913,
          0.0744135901331901,
          0.0009476034902036,
          0.0209154384428984,
          0.1309171020984649
         ],
         "yaxis": "y9"
        },
        {
         "customdata": [
          [
           null,
           0.001
          ],
          [
           null,
           0.004
          ],
          [
           null,
           0.016
          ],
          [
           null,
           0.063
          ],
          [
           null,
           0.251
          ],
          [
           null,
           1
          ]
         ],
         "hovertemplate": "color=sp<br>task=tracr-reverse<br>zero-ablation=1<br>number_of_edges=%{x}<br>test_kl_div=%{y}<br>threshold=%{customdata[0]}<br>lambda-reg=%{customdata[1]}<extra></extra>",
         "legendgroup": "sp",
         "marker": {
          "color": "#00cc96",
          "symbol": "circle"
         },
         "mode": "markers",
         "name": "sp",
         "orientation": "v",
         "showlegend": false,
         "type": "scatter",
         "x": [
          35,
          41,
          41,
          35,
          36,
          41
         ],
         "xaxis": "x10",
         "y": [
          0.7723165805895178,
          1.2669733281276194,
          1.3174524738014697,
          0.7186130216667124,
          0.9317166641998824,
          1.7129212346627325
         ],
         "yaxis": "y10"
        },
        {
         "customdata": [
          [
           null,
           0.001
          ],
          [
           null,
           0.004
          ],
          [
           null,
           0.016
          ],
          [
           null,
           0.063
          ],
          [
           null,
           0.251
          ],
          [
           null,
           1
          ],
          [
           null,
           0.001
          ],
          [
           null,
           0.004
          ],
          [
           null,
           0.016
          ],
          [
           null,
           0.063
          ],
          [
           null,
           0.251
          ],
          [
           null,
           1
          ]
         ],
         "hovertemplate": "color=sp<br>task=tracr-proportion<br>zero-ablation=False<br>number_of_edges=%{x}<br>test_kl_div=%{y}<br>threshold=%{customdata[0]}<br>lambda-reg=%{customdata[1]}<extra></extra>",
         "legendgroup": "sp",
         "marker": {
          "color": "#00cc96",
          "symbol": "circle"
         },
         "mode": "markers",
         "name": "sp",
         "orientation": "v",
         "showlegend": false,
         "type": "scatter",
         "x": [
          13,
          13,
          13,
          13,
          3,
          3,
          13,
          13,
          13,
          13,
          13,
          13
         ],
         "xaxis": "x7",
         "y": [
          0.0279697596015466,
          0.0372389351973652,
          0.0047781101795436,
          0.0359755927347578,
          0.5891661029309034,
          0.2863521873950958,
          0.0033122403183369,
          0.034504128696426,
          0.0080393192378327,
          0.0165270343422889,
          0.0309080964298118,
          0.0014944738747908
         ],
         "yaxis": "y7"
        },
        {
         "customdata": [
          [
           null,
           0.001
          ],
          [
           null,
           0.004
          ],
          [
           null,
           0.016
          ],
          [
           null,
           0.063
          ],
          [
           null,
           0.251
          ],
          [
           null,
           1
          ],
          [
           null,
           0.001
          ],
          [
           null,
           0.004
          ],
          [
           null,
           0.016
          ],
          [
           null,
           0.063
          ],
          [
           null,
           0.251
          ],
          [
           null,
           1
          ]
         ],
         "hovertemplate": "color=sp<br>task=tracr-proportion<br>zero-ablation=1<br>number_of_edges=%{x}<br>test_kl_div=%{y}<br>threshold=%{customdata[0]}<br>lambda-reg=%{customdata[1]}<extra></extra>",
         "legendgroup": "sp",
         "marker": {
          "color": "#00cc96",
          "symbol": "circle"
         },
         "mode": "markers",
         "name": "sp",
         "orientation": "v",
         "showlegend": false,
         "type": "scatter",
         "x": [
          16,
          16,
          9,
          16,
          3,
          3,
          13,
          16,
          13,
          16,
          16,
          13
         ],
         "xaxis": "x8",
         "y": [
          0.000978823178272,
          0.0187844620726231,
          0.0182311566958923,
          0.0329310490937658,
          0.2395977079868316,
          0.3311076760292053,
          0.0006009259004048,
          0.0105933820276245,
          0.0029266186586398,
          6.396822336898755e-7,
          0.008693152025206,
          0.0363174190339554
         ],
         "yaxis": "y8"
        },
        {
         "customdata": [
          [
           null,
           0.01
          ],
          [
           null,
           0.025
          ],
          [
           null,
           0.063
          ],
          [
           null,
           0.01
          ],
          [
           null,
           0.04
          ],
          [
           null,
           0.158
          ],
          [
           null,
           0.631
          ],
          [
           null,
           3
          ],
          [
           null,
           6
          ],
          [
           null,
           9
          ],
          [
           null,
           50
          ],
          [
           null,
           110
          ],
          [
           null,
           170
          ],
          [
           null,
           230
          ],
          [
           null,
           0
          ],
          [
           null,
           0.001
          ],
          [
           null,
           0.006
          ],
          [
           null,
           0.05
          ],
          [
           null,
           0.398
          ],
          [
           null,
           3.162
          ],
          [
           null,
           25.119
          ]
         ],
         "hovertemplate": "color=sp<br>task=docstring<br>zero-ablation=False<br>number_of_edges=%{x}<br>test_kl_div=%{y}<br>threshold=%{customdata[0]}<br>lambda-reg=%{customdata[1]}<extra></extra>",
         "legendgroup": "sp",
         "marker": {
          "color": "#00cc96",
          "symbol": "circle"
         },
         "mode": "markers",
         "name": "sp",
         "orientation": "v",
         "showlegend": false,
         "type": "scatter",
         "x": [
          1203,
          1223,
          1169,
          1203,
          1223,
          1133,
          1013,
          537,
          333,
          296,
          60,
          7,
          7,
          7,
          941,
          958,
          1023,
          957,
          1047,
          747,
          291
         ],
         "xaxis": "x3",
         "y": [
          3.556607374921441,
          3.1335166972130537,
          2.070186184719205,
          3.556607374921441,
          3.14878841675818,
          2.1651103384792805,
          4.405646655708551,
          4.562235727906227,
          6.935548663139343,
          8.868309289216995,
          20.06387573480606,
          35.5733414888382,
          35.78918743133545,
          36.36410427093506,
          7.277697876095772,
          5.8390756994485855,
          5.818188592791557,
          6.629185676574707,
          6.886964708566666,
          8.676266744732857,
          11.588996469974518
         ],
         "yaxis": "y3"
        },
        {
         "customdata": [
          [
           null,
           0.01
          ],
          [
           null,
           0.04
          ],
          [
           null,
           0.158
          ],
          [
           null,
           0.631
          ],
          [
           null,
           3
          ],
          [
           null,
           6
          ],
          [
           null,
           9
          ],
          [
           null,
           50
          ],
          [
           null,
           110
          ],
          [
           null,
           170
          ],
          [
           null,
           230
          ],
          [
           null,
           0
          ],
          [
           null,
           0.001
          ],
          [
           null,
           0.006
          ],
          [
           null,
           0.05
          ],
          [
           null,
           0.398
          ],
          [
           null,
           3.162
          ],
          [
           null,
           25.119
          ]
         ],
         "hovertemplate": "color=sp<br>task=docstring<br>zero-ablation=1<br>number_of_edges=%{x}<br>test_kl_div=%{y}<br>threshold=%{customdata[0]}<br>lambda-reg=%{customdata[1]}<extra></extra>",
         "legendgroup": "sp",
         "marker": {
          "color": "#00cc96",
          "symbol": "circle"
         },
         "mode": "markers",
         "name": "sp",
         "orientation": "v",
         "showlegend": false,
         "type": "scatter",
         "x": [
          1313,
          1279,
          1303,
          1331,
          1251,
          1179,
          1087,
          205,
          38,
          23,
          18,
          1037,
          935,
          1117,
          1023,
          1097,
          713,
          184
         ],
         "xaxis": "x4",
         "y": [
          16.095249205827713,
          13.474681556224825,
          20.87450109422207,
          16.155239388346672,
          17.394421756267548,
          17.118532672524452,
          19.61890009045601,
          68.7982132434845,
          83.04306125640869,
          103.60004377365112,
          105.36847591400146,
          82.04663729667664,
          85.26442861557007,
          83.72515082359314,
          78.75224208831787,
          81.62341451644897,
          82.20815086364746,
          98.69189381599426
         ],
         "yaxis": "y4"
        },
        {
         "customdata": [
          [
           null,
           0.01
          ],
          [
           null,
           0.04
          ],
          [
           null,
           0.158
          ],
          [
           null,
           0.631
          ],
          [
           null,
           3
          ],
          [
           null,
           6
          ],
          [
           null,
           9
          ],
          [
           null,
           50
          ],
          [
           null,
           110
          ],
          [
           null,
           170
          ],
          [
           null,
           230
          ],
          [
           null,
           0
          ],
          [
           null,
           0.001
          ],
          [
           null,
           0.006
          ],
          [
           null,
           0.05
          ],
          [
           null,
           0.398
          ],
          [
           null,
           3.162
          ],
          [
           null,
           25.119
          ]
         ],
         "hovertemplate": "color=sp<br>task=ioi<br>zero-ablation=False<br>number_of_edges=%{x}<br>test_kl_div=%{y}<br>threshold=%{customdata[0]}<br>lambda-reg=%{customdata[1]}<extra></extra>",
         "legendgroup": "sp",
         "marker": {
          "color": "#00cc96",
          "symbol": "circle"
         },
         "mode": "markers",
         "name": "sp",
         "orientation": "v",
         "showlegend": false,
         "type": "scatter",
         "x": [
          27680,
          28641,
          25810,
          17152,
          6613,
          4117,
          3491,
          1218,
          294,
          151,
          139,
          23099,
          24257,
          23569,
          23312,
          23903,
          20274,
          10104
         ],
         "xaxis": "x",
         "y": [
          2.124054016545415,
          1.617719627916813,
          1.5087102241814137,
          2.3158253207802773,
          2.2692347913980484,
          6.387677647173405,
          6.53636859357357,
          23.958065569400787,
          44.34133529663086,
          54.66012382507324,
          56.49493360519409,
          17.421856582164764,
          19.131219625473022,
          18.74758815765381,
          18.15715754032135,
          19.11235779523849,
          20.57440620660782,
          18.373829305171967
         ],
         "yaxis": "y"
        },
        {
         "customdata": [
          [
           null,
           0.01
          ],
          [
           null,
           0.04
          ],
          [
           null,
           0.158
          ]
         ],
         "hovertemplate": "color=sp<br>task=ioi<br>zero-ablation=1<br>number_of_edges=%{x}<br>test_kl_div=%{y}<br>threshold=%{customdata[0]}<br>lambda-reg=%{customdata[1]}<extra></extra>",
         "legendgroup": "sp",
         "marker": {
          "color": "#00cc96",
          "symbol": "circle"
         },
         "mode": "markers",
         "name": "sp",
         "orientation": "v",
         "showlegend": false,
         "type": "scatter",
         "x": [
          27877,
          28669,
          28050
         ],
         "xaxis": "x2",
         "y": [
          8.201889619231224,
          8.481660023331642,
          13.043944284319878
         ],
         "yaxis": "y2"
        }
       ],
       "layout": {
        "annotations": [
         {
          "font": {},
          "showarrow": false,
          "text": "zero-ablation=False",
          "x": 0.24,
          "xanchor": "center",
          "xref": "paper",
          "y": 1,
          "yanchor": "bottom",
          "yref": "paper"
         },
         {
          "font": {},
          "showarrow": false,
          "text": "zero-ablation=1",
          "x": 0.74,
          "xanchor": "center",
          "xref": "paper",
          "y": 1,
          "yanchor": "bottom",
          "yref": "paper"
         },
         {
          "font": {},
          "showarrow": false,
          "text": "task=ioi",
          "textangle": 90,
          "x": 0.98,
          "xanchor": "left",
          "xref": "paper",
          "y": 0.08800000000000001,
          "yanchor": "middle",
          "yref": "paper"
         },
         {
          "font": {},
          "showarrow": false,
          "text": "task=docstring",
          "textangle": 90,
          "x": 0.98,
          "xanchor": "left",
          "xref": "paper",
          "y": 0.29400000000000004,
          "yanchor": "middle",
          "yref": "paper"
         },
         {
          "font": {},
          "showarrow": false,
          "text": "task=induction",
          "textangle": 90,
          "x": 0.98,
          "xanchor": "left",
          "xref": "paper",
          "y": 0.5,
          "yanchor": "middle",
          "yref": "paper"
         },
         {
          "font": {},
          "showarrow": false,
          "text": "task=tracr-proportion",
          "textangle": 90,
          "x": 0.98,
          "xanchor": "left",
          "xref": "paper",
          "y": 0.706,
          "yanchor": "middle",
          "yref": "paper"
         },
         {
          "font": {},
          "showarrow": false,
          "text": "task=tracr-reverse",
          "textangle": 90,
          "x": 0.98,
          "xanchor": "left",
          "xref": "paper",
          "y": 0.912,
          "yanchor": "middle",
          "yref": "paper"
         }
        ],
        "legend": {
         "title": {
          "text": "color"
         },
         "tracegroupgap": 0
        },
        "template": {
         "data": {
          "bar": [
           {
            "error_x": {
             "color": "#2a3f5f"
            },
            "error_y": {
             "color": "#2a3f5f"
            },
            "marker": {
             "line": {
              "color": "#E5ECF6",
              "width": 0.5
             },
             "pattern": {
              "fillmode": "overlay",
              "size": 10,
              "solidity": 0.2
             }
            },
            "type": "bar"
           }
          ],
          "barpolar": [
           {
            "marker": {
             "line": {
              "color": "#E5ECF6",
              "width": 0.5
             },
             "pattern": {
              "fillmode": "overlay",
              "size": 10,
              "solidity": 0.2
             }
            },
            "type": "barpolar"
           }
          ],
          "carpet": [
           {
            "aaxis": {
             "endlinecolor": "#2a3f5f",
             "gridcolor": "white",
             "linecolor": "white",
             "minorgridcolor": "white",
             "startlinecolor": "#2a3f5f"
            },
            "baxis": {
             "endlinecolor": "#2a3f5f",
             "gridcolor": "white",
             "linecolor": "white",
             "minorgridcolor": "white",
             "startlinecolor": "#2a3f5f"
            },
            "type": "carpet"
           }
          ],
          "choropleth": [
           {
            "colorbar": {
             "outlinewidth": 0,
             "ticks": ""
            },
            "type": "choropleth"
           }
          ],
          "contour": [
           {
            "colorbar": {
             "outlinewidth": 0,
             "ticks": ""
            },
            "colorscale": [
             [
              0,
              "#0d0887"
             ],
             [
              0.1111111111111111,
              "#46039f"
             ],
             [
              0.2222222222222222,
              "#7201a8"
             ],
             [
              0.3333333333333333,
              "#9c179e"
             ],
             [
              0.4444444444444444,
              "#bd3786"
             ],
             [
              0.5555555555555556,
              "#d8576b"
             ],
             [
              0.6666666666666666,
              "#ed7953"
             ],
             [
              0.7777777777777778,
              "#fb9f3a"
             ],
             [
              0.8888888888888888,
              "#fdca26"
             ],
             [
              1,
              "#f0f921"
             ]
            ],
            "type": "contour"
           }
          ],
          "contourcarpet": [
           {
            "colorbar": {
             "outlinewidth": 0,
             "ticks": ""
            },
            "type": "contourcarpet"
           }
          ],
          "heatmap": [
           {
            "colorbar": {
             "outlinewidth": 0,
             "ticks": ""
            },
            "colorscale": [
             [
              0,
              "#0d0887"
             ],
             [
              0.1111111111111111,
              "#46039f"
             ],
             [
              0.2222222222222222,
              "#7201a8"
             ],
             [
              0.3333333333333333,
              "#9c179e"
             ],
             [
              0.4444444444444444,
              "#bd3786"
             ],
             [
              0.5555555555555556,
              "#d8576b"
             ],
             [
              0.6666666666666666,
              "#ed7953"
             ],
             [
              0.7777777777777778,
              "#fb9f3a"
             ],
             [
              0.8888888888888888,
              "#fdca26"
             ],
             [
              1,
              "#f0f921"
             ]
            ],
            "type": "heatmap"
           }
          ],
          "heatmapgl": [
           {
            "colorbar": {
             "outlinewidth": 0,
             "ticks": ""
            },
            "colorscale": [
             [
              0,
              "#0d0887"
             ],
             [
              0.1111111111111111,
              "#46039f"
             ],
             [
              0.2222222222222222,
              "#7201a8"
             ],
             [
              0.3333333333333333,
              "#9c179e"
             ],
             [
              0.4444444444444444,
              "#bd3786"
             ],
             [
              0.5555555555555556,
              "#d8576b"
             ],
             [
              0.6666666666666666,
              "#ed7953"
             ],
             [
              0.7777777777777778,
              "#fb9f3a"
             ],
             [
              0.8888888888888888,
              "#fdca26"
             ],
             [
              1,
              "#f0f921"
             ]
            ],
            "type": "heatmapgl"
           }
          ],
          "histogram": [
           {
            "marker": {
             "pattern": {
              "fillmode": "overlay",
              "size": 10,
              "solidity": 0.2
             }
            },
            "type": "histogram"
           }
          ],
          "histogram2d": [
           {
            "colorbar": {
             "outlinewidth": 0,
             "ticks": ""
            },
            "colorscale": [
             [
              0,
              "#0d0887"
             ],
             [
              0.1111111111111111,
              "#46039f"
             ],
             [
              0.2222222222222222,
              "#7201a8"
             ],
             [
              0.3333333333333333,
              "#9c179e"
             ],
             [
              0.4444444444444444,
              "#bd3786"
             ],
             [
              0.5555555555555556,
              "#d8576b"
             ],
             [
              0.6666666666666666,
              "#ed7953"
             ],
             [
              0.7777777777777778,
              "#fb9f3a"
             ],
             [
              0.8888888888888888,
              "#fdca26"
             ],
             [
              1,
              "#f0f921"
             ]
            ],
            "type": "histogram2d"
           }
          ],
          "histogram2dcontour": [
           {
            "colorbar": {
             "outlinewidth": 0,
             "ticks": ""
            },
            "colorscale": [
             [
              0,
              "#0d0887"
             ],
             [
              0.1111111111111111,
              "#46039f"
             ],
             [
              0.2222222222222222,
              "#7201a8"
             ],
             [
              0.3333333333333333,
              "#9c179e"
             ],
             [
              0.4444444444444444,
              "#bd3786"
             ],
             [
              0.5555555555555556,
              "#d8576b"
             ],
             [
              0.6666666666666666,
              "#ed7953"
             ],
             [
              0.7777777777777778,
              "#fb9f3a"
             ],
             [
              0.8888888888888888,
              "#fdca26"
             ],
             [
              1,
              "#f0f921"
             ]
            ],
            "type": "histogram2dcontour"
           }
          ],
          "mesh3d": [
           {
            "colorbar": {
             "outlinewidth": 0,
             "ticks": ""
            },
            "type": "mesh3d"
           }
          ],
          "parcoords": [
           {
            "line": {
             "colorbar": {
              "outlinewidth": 0,
              "ticks": ""
             }
            },
            "type": "parcoords"
           }
          ],
          "pie": [
           {
            "automargin": true,
            "type": "pie"
           }
          ],
          "scatter": [
           {
            "fillpattern": {
             "fillmode": "overlay",
             "size": 10,
             "solidity": 0.2
            },
            "type": "scatter"
           }
          ],
          "scatter3d": [
           {
            "line": {
             "colorbar": {
              "outlinewidth": 0,
              "ticks": ""
             }
            },
            "marker": {
             "colorbar": {
              "outlinewidth": 0,
              "ticks": ""
             }
            },
            "type": "scatter3d"
           }
          ],
          "scattercarpet": [
           {
            "marker": {
             "colorbar": {
              "outlinewidth": 0,
              "ticks": ""
             }
            },
            "type": "scattercarpet"
           }
          ],
          "scattergeo": [
           {
            "marker": {
             "colorbar": {
              "outlinewidth": 0,
              "ticks": ""
             }
            },
            "type": "scattergeo"
           }
          ],
          "scattergl": [
           {
            "marker": {
             "colorbar": {
              "outlinewidth": 0,
              "ticks": ""
             }
            },
            "type": "scattergl"
           }
          ],
          "scattermapbox": [
           {
            "marker": {
             "colorbar": {
              "outlinewidth": 0,
              "ticks": ""
             }
            },
            "type": "scattermapbox"
           }
          ],
          "scatterpolar": [
           {
            "marker": {
             "colorbar": {
              "outlinewidth": 0,
              "ticks": ""
             }
            },
            "type": "scatterpolar"
           }
          ],
          "scatterpolargl": [
           {
            "marker": {
             "colorbar": {
              "outlinewidth": 0,
              "ticks": ""
             }
            },
            "type": "scatterpolargl"
           }
          ],
          "scatterternary": [
           {
            "marker": {
             "colorbar": {
              "outlinewidth": 0,
              "ticks": ""
             }
            },
            "type": "scatterternary"
           }
          ],
          "surface": [
           {
            "colorbar": {
             "outlinewidth": 0,
             "ticks": ""
            },
            "colorscale": [
             [
              0,
              "#0d0887"
             ],
             [
              0.1111111111111111,
              "#46039f"
             ],
             [
              0.2222222222222222,
              "#7201a8"
             ],
             [
              0.3333333333333333,
              "#9c179e"
             ],
             [
              0.4444444444444444,
              "#bd3786"
             ],
             [
              0.5555555555555556,
              "#d8576b"
             ],
             [
              0.6666666666666666,
              "#ed7953"
             ],
             [
              0.7777777777777778,
              "#fb9f3a"
             ],
             [
              0.8888888888888888,
              "#fdca26"
             ],
             [
              1,
              "#f0f921"
             ]
            ],
            "type": "surface"
           }
          ],
          "table": [
           {
            "cells": {
             "fill": {
              "color": "#EBF0F8"
             },
             "line": {
              "color": "white"
             }
            },
            "header": {
             "fill": {
              "color": "#C8D4E3"
             },
             "line": {
              "color": "white"
             }
            },
            "type": "table"
           }
          ]
         },
         "layout": {
          "annotationdefaults": {
           "arrowcolor": "#2a3f5f",
           "arrowhead": 0,
           "arrowwidth": 1
          },
          "autotypenumbers": "strict",
          "coloraxis": {
           "colorbar": {
            "outlinewidth": 0,
            "ticks": ""
           }
          },
          "colorscale": {
           "diverging": [
            [
             0,
             "#8e0152"
            ],
            [
             0.1,
             "#c51b7d"
            ],
            [
             0.2,
             "#de77ae"
            ],
            [
             0.3,
             "#f1b6da"
            ],
            [
             0.4,
             "#fde0ef"
            ],
            [
             0.5,
             "#f7f7f7"
            ],
            [
             0.6,
             "#e6f5d0"
            ],
            [
             0.7,
             "#b8e186"
            ],
            [
             0.8,
             "#7fbc41"
            ],
            [
             0.9,
             "#4d9221"
            ],
            [
             1,
             "#276419"
            ]
           ],
           "sequential": [
            [
             0,
             "#0d0887"
            ],
            [
             0.1111111111111111,
             "#46039f"
            ],
            [
             0.2222222222222222,
             "#7201a8"
            ],
            [
             0.3333333333333333,
             "#9c179e"
            ],
            [
             0.4444444444444444,
             "#bd3786"
            ],
            [
             0.5555555555555556,
             "#d8576b"
            ],
            [
             0.6666666666666666,
             "#ed7953"
            ],
            [
             0.7777777777777778,
             "#fb9f3a"
            ],
            [
             0.8888888888888888,
             "#fdca26"
            ],
            [
             1,
             "#f0f921"
            ]
           ],
           "sequentialminus": [
            [
             0,
             "#0d0887"
            ],
            [
             0.1111111111111111,
             "#46039f"
            ],
            [
             0.2222222222222222,
             "#7201a8"
            ],
            [
             0.3333333333333333,
             "#9c179e"
            ],
            [
             0.4444444444444444,
             "#bd3786"
            ],
            [
             0.5555555555555556,
             "#d8576b"
            ],
            [
             0.6666666666666666,
             "#ed7953"
            ],
            [
             0.7777777777777778,
             "#fb9f3a"
            ],
            [
             0.8888888888888888,
             "#fdca26"
            ],
            [
             1,
             "#f0f921"
            ]
           ]
          },
          "colorway": [
           "#636efa",
           "#EF553B",
           "#00cc96",
           "#ab63fa",
           "#FFA15A",
           "#19d3f3",
           "#FF6692",
           "#B6E880",
           "#FF97FF",
           "#FECB52"
          ],
          "font": {
           "color": "#2a3f5f"
          },
          "geo": {
           "bgcolor": "white",
           "lakecolor": "white",
           "landcolor": "#E5ECF6",
           "showlakes": true,
           "showland": true,
           "subunitcolor": "white"
          },
          "hoverlabel": {
           "align": "left"
          },
          "hovermode": "closest",
          "mapbox": {
           "style": "light"
          },
          "paper_bgcolor": "white",
          "plot_bgcolor": "#E5ECF6",
          "polar": {
           "angularaxis": {
            "gridcolor": "white",
            "linecolor": "white",
            "ticks": ""
           },
           "bgcolor": "#E5ECF6",
           "radialaxis": {
            "gridcolor": "white",
            "linecolor": "white",
            "ticks": ""
           }
          },
          "scene": {
           "xaxis": {
            "backgroundcolor": "#E5ECF6",
            "gridcolor": "white",
            "gridwidth": 2,
            "linecolor": "white",
            "showbackground": true,
            "ticks": "",
            "zerolinecolor": "white"
           },
           "yaxis": {
            "backgroundcolor": "#E5ECF6",
            "gridcolor": "white",
            "gridwidth": 2,
            "linecolor": "white",
            "showbackground": true,
            "ticks": "",
            "zerolinecolor": "white"
           },
           "zaxis": {
            "backgroundcolor": "#E5ECF6",
            "gridcolor": "white",
            "gridwidth": 2,
            "linecolor": "white",
            "showbackground": true,
            "ticks": "",
            "zerolinecolor": "white"
           }
          },
          "shapedefaults": {
           "line": {
            "color": "#2a3f5f"
           }
          },
          "ternary": {
           "aaxis": {
            "gridcolor": "white",
            "linecolor": "white",
            "ticks": ""
           },
           "baxis": {
            "gridcolor": "white",
            "linecolor": "white",
            "ticks": ""
           },
           "bgcolor": "#E5ECF6",
           "caxis": {
            "gridcolor": "white",
            "linecolor": "white",
            "ticks": ""
           }
          },
          "title": {
           "x": 0.05
          },
          "xaxis": {
           "automargin": true,
           "gridcolor": "white",
           "linecolor": "white",
           "ticks": "",
           "title": {
            "standoff": 15
           },
           "zerolinecolor": "white",
           "zerolinewidth": 2
          },
          "yaxis": {
           "automargin": true,
           "gridcolor": "white",
           "linecolor": "white",
           "ticks": "",
           "title": {
            "standoff": 15
           },
           "zerolinecolor": "white",
           "zerolinewidth": 2
          }
         }
        },
        "title": {
         "text": "kl_divergence vs number of edges metric"
        },
        "xaxis": {
         "anchor": "y",
         "domain": [
          0,
          0.48
         ],
         "title": {
          "text": "number_of_edges"
         }
        },
        "xaxis10": {
         "anchor": "y10",
         "domain": [
          0.5,
          0.98
         ],
         "matches": "x",
         "showticklabels": false
        },
        "xaxis2": {
         "anchor": "y2",
         "domain": [
          0.5,
          0.98
         ],
         "matches": "x",
         "title": {
          "text": "number_of_edges"
         }
        },
        "xaxis3": {
         "anchor": "y3",
         "domain": [
          0,
          0.48
         ],
         "matches": "x",
         "showticklabels": false
        },
        "xaxis4": {
         "anchor": "y4",
         "domain": [
          0.5,
          0.98
         ],
         "matches": "x",
         "showticklabels": false
        },
        "xaxis5": {
         "anchor": "y5",
         "domain": [
          0,
          0.48
         ],
         "matches": "x",
         "showticklabels": false
        },
        "xaxis6": {
         "anchor": "y6",
         "domain": [
          0.5,
          0.98
         ],
         "matches": "x",
         "showticklabels": false
        },
        "xaxis7": {
         "anchor": "y7",
         "domain": [
          0,
          0.48
         ],
         "matches": "x",
         "showticklabels": false
        },
        "xaxis8": {
         "anchor": "y8",
         "domain": [
          0.5,
          0.98
         ],
         "matches": "x",
         "showticklabels": false
        },
        "xaxis9": {
         "anchor": "y9",
         "domain": [
          0,
          0.48
         ],
         "matches": "x",
         "showticklabels": false
        },
        "yaxis": {
         "anchor": "x",
         "domain": [
          0,
          0.17600000000000002
         ],
         "title": {
          "text": "test_kl_div"
         }
        },
        "yaxis10": {
         "anchor": "x10",
         "domain": [
          0.8240000000000001,
          1
         ],
         "matches": "y",
         "showticklabels": false
        },
        "yaxis2": {
         "anchor": "x2",
         "domain": [
          0,
          0.17600000000000002
         ],
         "matches": "y",
         "showticklabels": false
        },
        "yaxis3": {
         "anchor": "x3",
         "domain": [
          0.20600000000000002,
          0.382
         ],
         "matches": "y",
         "title": {
          "text": "test_kl_div"
         }
        },
        "yaxis4": {
         "anchor": "x4",
         "domain": [
          0.20600000000000002,
          0.382
         ],
         "matches": "y",
         "showticklabels": false
        },
        "yaxis5": {
         "anchor": "x5",
         "domain": [
          0.41200000000000003,
          0.5880000000000001
         ],
         "matches": "y",
         "title": {
          "text": "test_kl_div"
         }
        },
        "yaxis6": {
         "anchor": "x6",
         "domain": [
          0.41200000000000003,
          0.5880000000000001
         ],
         "matches": "y",
         "showticklabels": false
        },
        "yaxis7": {
         "anchor": "x7",
         "domain": [
          0.618,
          0.794
         ],
         "matches": "y",
         "title": {
          "text": "test_kl_div"
         }
        },
        "yaxis8": {
         "anchor": "x8",
         "domain": [
          0.618,
          0.794
         ],
         "matches": "y",
         "showticklabels": false
        },
        "yaxis9": {
         "anchor": "x9",
         "domain": [
          0.8240000000000001,
          1
         ],
         "matches": "y",
         "title": {
          "text": "test_kl_div"
         }
        }
       }
      },
      "text/html": [
       "<div>                            <div id=\"a8b4ae88-a281-411f-a7f6-8663a3f5f80a\" class=\"plotly-graph-div\" style=\"height:525px; width:100%;\"></div>            <script type=\"text/javascript\">                require([\"plotly\"], function(Plotly) {                    window.PLOTLYENV=window.PLOTLYENV || {};                                    if (document.getElementById(\"a8b4ae88-a281-411f-a7f6-8663a3f5f80a\")) {                    Plotly.newPlot(                        \"a8b4ae88-a281-411f-a7f6-8663a3f5f80a\",                        [{\"customdata\":[[1e-05,null],[2.5118864315095825e-05,null],[6.309573444801929e-05,null],[0.0001584893192461,null],[0.0003981071705534,null],[0.001,null],[0.0025118864315095,null],[0.0063095734448019,null],[0.0158489319246111,null],[0.0398107170553497,null],[0.1,null],[1e-05,null],[2.5118864315095825e-05,null],[6.309573444801929e-05,null],[0.0001584893192461,null],[0.0003981071705534,null],[0.001,null],[0.0025118864315095,null],[0.0063095734448019,null],[0.0158489319246111,null],[0.0398107170553497,null],[0.1,null]],\"hovertemplate\":\"color=acdc\\u003cbr\\u003etask=tracr-reverse\\u003cbr\\u003ezero-ablation=False\\u003cbr\\u003enumber_of_edges=%{x}\\u003cbr\\u003etest_kl_div=%{y}\\u003cbr\\u003ethreshold=%{customdata[0]}\\u003cbr\\u003elambda-reg=%{customdata[1]}\\u003cextra\\u003e\\u003c\\u002fextra\\u003e\",\"legendgroup\":\"acdc\",\"marker\":{\"color\":\"red\",\"symbol\":\"circle\"},\"mode\":\"markers\",\"name\":\"acdc\",\"orientation\":\"v\",\"showlegend\":true,\"x\":[9,9,9,9,9,9,9,9,9,9,9,0,0,0,0,0,0,0,0,0,0,0],\"xaxis\":\"x9\",\"y\":[0.0,0.0,0.0,0.0,0.0,0.0,0.0,0.0,0.0,0.0,0.0,0.0924632772803306,0.0924632772803306,0.0924632772803306,0.0924632772803306,0.0924632772803306,0.0924632772803306,0.0924632772803306,0.0924632772803306,0.0924632772803306,0.0924632772803306,0.0924632772803306],\"yaxis\":\"y9\",\"type\":\"scatter\"},{\"customdata\":[[1e-05,null],[2.5118864315095825e-05,null],[6.309573444801929e-05,null],[0.0001584893192461,null],[0.0003981071705534,null],[0.001,null],[0.0025118864315095,null],[0.0063095734448019,null],[0.0158489319246111,null],[0.0398107170553497,null],[0.1,null],[1e-05,null],[2.5118864315095825e-05,null],[6.309573444801929e-05,null],[0.0001584893192461,null],[0.0003981071705534,null],[0.001,null],[0.0025118864315095,null],[0.0063095734448019,null],[0.0158489319246111,null],[0.0398107170553497,null],[0.1,null]],\"hovertemplate\":\"color=acdc\\u003cbr\\u003etask=tracr-proportion\\u003cbr\\u003ezero-ablation=False\\u003cbr\\u003enumber_of_edges=%{x}\\u003cbr\\u003etest_kl_div=%{y}\\u003cbr\\u003ethreshold=%{customdata[0]}\\u003cbr\\u003elambda-reg=%{customdata[1]}\\u003cextra\\u003e\\u003c\\u002fextra\\u003e\",\"legendgroup\":\"acdc\",\"marker\":{\"color\":\"red\",\"symbol\":\"circle\"},\"mode\":\"markers\",\"name\":\"acdc\",\"orientation\":\"v\",\"showlegend\":false,\"x\":[9,9,9,9,9,9,9,9,9,9,8,0,0,0,0,0,0,0,0,0,0,0],\"xaxis\":\"x7\",\"y\":[0.2003405690193176,0.1981358081102371,0.1990756392478943,0.1992510259151458,0.2004032135009765,0.1985094100236892,0.2006339579820633,0.1982488632202148,0.1994872242212295,0.1971749514341354,0.2066086232662201,0.2086482644081115,0.210270807147026,0.2091777175664901,0.2091699540615081,0.2104552090167999,0.2121556103229522,0.209112599492073,0.2113324552774429,0.210691437125206,0.2107939720153808,0.2086642682552337],\"yaxis\":\"y7\",\"type\":\"scatter\"},{\"customdata\":[[0.0001,null],[0.0002511886431509,null],[0.0006309573444801,null],[0.0015848931924611,null],[0.0039810717055349,null],[0.01,null],[0.0251188643150958,null],[0.0630957344480193,null],[0.1584893192461114,null],[0.3981071705534973,null],[1.0,null],[0.0001,null],[0.0002511886431509,null],[0.0006309573444801,null],[0.0015848931924611,null],[0.0039810717055349,null],[0.01,null],[0.0251188643150958,null],[0.0630957344480193,null],[0.1584893192461114,null],[0.3981071705534973,null],[1.0,null],[0.0001,null],[0.0002511886431509,null],[0.0006309573444801,null],[0.0015848931924611,null],[0.0039810717055349,null],[0.01,null],[0.0251188643150958,null],[0.0630957344480193,null],[0.1584893192461114,null],[0.3981071705534973,null],[1.0,null],[0.0001,null],[0.0002511886431509,null],[0.0006309573444801,null],[0.0015848931924611,null],[0.0039810717055349,null],[0.01,null],[0.0251188643150958,null],[0.0630957344480193,null],[0.1584893192461114,null],[0.3981071705534973,null],[1.0,null]],\"hovertemplate\":\"color=acdc\\u003cbr\\u003etask=induction\\u003cbr\\u003ezero-ablation=False\\u003cbr\\u003enumber_of_edges=%{x}\\u003cbr\\u003etest_kl_div=%{y}\\u003cbr\\u003ethreshold=%{customdata[0]}\\u003cbr\\u003elambda-reg=%{customdata[1]}\\u003cextra\\u003e\\u003c\\u002fextra\\u003e\",\"legendgroup\":\"acdc\",\"marker\":{\"color\":\"red\",\"symbol\":\"circle\"},\"mode\":\"markers\",\"name\":\"acdc\",\"orientation\":\"v\",\"showlegend\":false,\"x\":[298,270,225,179,140,108,92,73,57,47,8,293,293,261,226,153,117,85,73,55,47,8,304,302,298,287,229,158,78,34,2,1,1,305,303,298,291,252,189,99,34,2,1,1],\"xaxis\":\"x5\",\"y\":[0.0014553070068359,0.012786865234375,0.0311737060546875,0.07696533203125,0.21630859375,0.27587890625,0.55859375,0.97900390625,2.404296875,6.20703125,11.2421875,0.0073776245117187,0.0073776245117187,0.06842041015625,0.09832763671875,0.20361328125,0.448974609375,0.6708984375,1.0546875,2.419921875,6.0546875,11.2421875,15.225462913513184,15.223413467407228,15.196480751037598,15.171116828918455,14.956997871398926,14.836201667785645,14.73414707183838,14.901293754577637,14.929838180541992,14.929838180541992,14.929838180541992,15.230732917785645,15.250551223754885,15.200499534606934,15.193802833557127,15.128796577453612,15.114730834960938,15.077420234680176,14.901293754577637,14.929838180541992,14.929838180541992,14.929838180541992],\"yaxis\":\"y5\",\"type\":\"scatter\"},{\"customdata\":[[0.0001,null],[0.0002511886431509,null],[0.0006309573444801,null],[0.0015848931924611,null],[0.0039810717055349,null],[0.01,null],[0.0251188643150958,null],[0.0630957344480193,null],[0.1584893192461114,null],[0.3981071705534973,null],[1.0,null],[0.0001,null],[0.0002511886431509,null],[0.0006309573444801,null],[0.0015848931924611,null],[0.0039810717055349,null],[0.01,null],[0.0251188643150958,null],[0.0630957344480193,null],[0.1584893192461114,null],[0.3981071705534973,null],[1.0,null],[0.0001,null],[0.0002511886431509,null],[0.0006309573444801,null],[0.0015848931924611,null],[0.0039810717055349,null],[0.01,null],[0.0251188643150958,null],[0.0630957344480193,null],[0.1584893192461114,null],[0.3981071705534973,null],[1.0,null],[0.0001,null],[0.0002511886431509,null],[0.0006309573444801,null],[0.0015848931924611,null],[0.0039810717055349,null],[0.01,null],[0.0251188643150958,null],[0.0630957344480193,null],[0.1584893192461114,null],[0.3981071705534973,null],[1.0,null]],\"hovertemplate\":\"color=acdc\\u003cbr\\u003etask=docstring\\u003cbr\\u003ezero-ablation=False\\u003cbr\\u003enumber_of_edges=%{x}\\u003cbr\\u003etest_kl_div=%{y}\\u003cbr\\u003ethreshold=%{customdata[0]}\\u003cbr\\u003elambda-reg=%{customdata[1]}\\u003cextra\\u003e\\u003c\\u002fextra\\u003e\",\"legendgroup\":\"acdc\",\"marker\":{\"color\":\"red\",\"symbol\":\"circle\"},\"mode\":\"markers\",\"name\":\"acdc\",\"orientation\":\"v\",\"showlegend\":false,\"x\":[867,683,518,362,217,123,81,44,21,8,2,1304,1244,1139,961,681,404,187,110,58,34,7,1091,778,424,124,27,3,0,0,0,0,0,1117,843,502,160,45,2,0,0,0,0,0],\"xaxis\":\"x3\",\"y\":[0.0411253236234188,0.096704214811325,0.1502548158168792,0.2738040685653686,0.3248684704303741,0.5486306548118591,0.8299990892410278,1.3802651166915894,2.0682120323181152,2.1202938556671143,3.989950180053711,0.005355002824217,0.023318700492382,0.0351458936929702,0.0831235125660896,0.1970751732587814,0.3340556919574737,0.5940326452255249,1.0129742622375488,1.4154644012451172,1.693550705909729,2.9607603549957275,9.257960319519045,9.25967788696289,9.270606994628906,9.363995552062988,9.32015895843506,9.337029457092283,9.337029457092283,9.337029457092283,9.337029457092283,9.337029457092283,9.337029457092283,9.225218772888184,9.223600387573242,9.288415908813477,9.2936372756958,9.35014533996582,9.337029457092283,9.337029457092283,9.337029457092283,9.337029457092283,9.337029457092283,9.337029457092283],\"yaxis\":\"y3\",\"type\":\"scatter\"},{\"customdata\":[[1e-06,null],[2.5118864315095823e-06,null],[6.30957344480193e-06,null],[1.584893192461114e-05,null],[3.9810717055349695e-05,null],[0.0001,null],[0.0002511886431509,null],[0.0006309573444801,null],[0.0015848931924611,null],[0.0039810717055349,null],[0.01,null],[0.0251188643150958,null],[0.0630957344480194,null],[0.1584893192461114,null],[0.3981071705534977,null],[1.0,null]],\"hovertemplate\":\"color=acdc\\u003cbr\\u003etask=ioi\\u003cbr\\u003ezero-ablation=False\\u003cbr\\u003enumber_of_edges=%{x}\\u003cbr\\u003etest_kl_div=%{y}\\u003cbr\\u003ethreshold=%{customdata[0]}\\u003cbr\\u003elambda-reg=%{customdata[1]}\\u003cextra\\u003e\\u003c\\u002fextra\\u003e\",\"legendgroup\":\"acdc\",\"marker\":{\"color\":\"red\",\"symbol\":\"circle\"},\"mode\":\"markers\",\"name\":\"acdc\",\"orientation\":\"v\",\"showlegend\":false,\"x\":[3,3,3,3,3,3,3,3,3,3,3,3,0,0,0,0],\"xaxis\":\"x\",\"y\":[12.75,12.75,12.75,12.75,12.75,12.75,12.75,12.75,12.75,12.75,12.75,12.75,12.75,12.75,12.75,12.75],\"yaxis\":\"y\",\"type\":\"scatter\"},{\"customdata\":[[null,0.001],[null,0.004],[null,0.016],[null,0.063],[null,0.251],[null,1.0]],\"hovertemplate\":\"color=sp\\u003cbr\\u003etask=tracr-reverse\\u003cbr\\u003ezero-ablation=False\\u003cbr\\u003enumber_of_edges=%{x}\\u003cbr\\u003etest_kl_div=%{y}\\u003cbr\\u003ethreshold=%{customdata[0]}\\u003cbr\\u003elambda-reg=%{customdata[1]}\\u003cextra\\u003e\\u003c\\u002fextra\\u003e\",\"legendgroup\":\"sp\",\"marker\":{\"color\":\"#00cc96\",\"symbol\":\"circle\"},\"mode\":\"markers\",\"name\":\"sp\",\"orientation\":\"v\",\"showlegend\":true,\"x\":[9,9,9,9,9,9],\"xaxis\":\"x9\",\"y\":[0.0078056077618384,0.1132855731993913,0.0744135901331901,0.0009476034902036,0.0209154384428984,0.1309171020984649],\"yaxis\":\"y9\",\"type\":\"scatter\"},{\"customdata\":[[null,0.001],[null,0.004],[null,0.016],[null,0.063],[null,0.251],[null,1.0]],\"hovertemplate\":\"color=sp\\u003cbr\\u003etask=tracr-reverse\\u003cbr\\u003ezero-ablation=1\\u003cbr\\u003enumber_of_edges=%{x}\\u003cbr\\u003etest_kl_div=%{y}\\u003cbr\\u003ethreshold=%{customdata[0]}\\u003cbr\\u003elambda-reg=%{customdata[1]}\\u003cextra\\u003e\\u003c\\u002fextra\\u003e\",\"legendgroup\":\"sp\",\"marker\":{\"color\":\"#00cc96\",\"symbol\":\"circle\"},\"mode\":\"markers\",\"name\":\"sp\",\"orientation\":\"v\",\"showlegend\":false,\"x\":[35,41,41,35,36,41],\"xaxis\":\"x10\",\"y\":[0.7723165805895178,1.2669733281276194,1.3174524738014697,0.7186130216667124,0.9317166641998824,1.7129212346627325],\"yaxis\":\"y10\",\"type\":\"scatter\"},{\"customdata\":[[null,0.001],[null,0.004],[null,0.016],[null,0.063],[null,0.251],[null,1.0],[null,0.001],[null,0.004],[null,0.016],[null,0.063],[null,0.251],[null,1.0]],\"hovertemplate\":\"color=sp\\u003cbr\\u003etask=tracr-proportion\\u003cbr\\u003ezero-ablation=False\\u003cbr\\u003enumber_of_edges=%{x}\\u003cbr\\u003etest_kl_div=%{y}\\u003cbr\\u003ethreshold=%{customdata[0]}\\u003cbr\\u003elambda-reg=%{customdata[1]}\\u003cextra\\u003e\\u003c\\u002fextra\\u003e\",\"legendgroup\":\"sp\",\"marker\":{\"color\":\"#00cc96\",\"symbol\":\"circle\"},\"mode\":\"markers\",\"name\":\"sp\",\"orientation\":\"v\",\"showlegend\":false,\"x\":[13,13,13,13,3,3,13,13,13,13,13,13],\"xaxis\":\"x7\",\"y\":[0.0279697596015466,0.0372389351973652,0.0047781101795436,0.0359755927347578,0.5891661029309034,0.2863521873950958,0.0033122403183369,0.034504128696426,0.0080393192378327,0.0165270343422889,0.0309080964298118,0.0014944738747908],\"yaxis\":\"y7\",\"type\":\"scatter\"},{\"customdata\":[[null,0.001],[null,0.004],[null,0.016],[null,0.063],[null,0.251],[null,1.0],[null,0.001],[null,0.004],[null,0.016],[null,0.063],[null,0.251],[null,1.0]],\"hovertemplate\":\"color=sp\\u003cbr\\u003etask=tracr-proportion\\u003cbr\\u003ezero-ablation=1\\u003cbr\\u003enumber_of_edges=%{x}\\u003cbr\\u003etest_kl_div=%{y}\\u003cbr\\u003ethreshold=%{customdata[0]}\\u003cbr\\u003elambda-reg=%{customdata[1]}\\u003cextra\\u003e\\u003c\\u002fextra\\u003e\",\"legendgroup\":\"sp\",\"marker\":{\"color\":\"#00cc96\",\"symbol\":\"circle\"},\"mode\":\"markers\",\"name\":\"sp\",\"orientation\":\"v\",\"showlegend\":false,\"x\":[16,16,9,16,3,3,13,16,13,16,16,13],\"xaxis\":\"x8\",\"y\":[0.000978823178272,0.0187844620726231,0.0182311566958923,0.0329310490937658,0.2395977079868316,0.3311076760292053,0.0006009259004048,0.0105933820276245,0.0029266186586398,6.396822336898755e-07,0.008693152025206,0.0363174190339554],\"yaxis\":\"y8\",\"type\":\"scatter\"},{\"customdata\":[[null,0.01],[null,0.025],[null,0.063],[null,0.01],[null,0.04],[null,0.158],[null,0.631],[null,3.0],[null,6.0],[null,9.0],[null,50.0],[null,110.0],[null,170.0],[null,230.0],[null,0.0],[null,0.001],[null,0.006],[null,0.05],[null,0.398],[null,3.162],[null,25.119]],\"hovertemplate\":\"color=sp\\u003cbr\\u003etask=docstring\\u003cbr\\u003ezero-ablation=False\\u003cbr\\u003enumber_of_edges=%{x}\\u003cbr\\u003etest_kl_div=%{y}\\u003cbr\\u003ethreshold=%{customdata[0]}\\u003cbr\\u003elambda-reg=%{customdata[1]}\\u003cextra\\u003e\\u003c\\u002fextra\\u003e\",\"legendgroup\":\"sp\",\"marker\":{\"color\":\"#00cc96\",\"symbol\":\"circle\"},\"mode\":\"markers\",\"name\":\"sp\",\"orientation\":\"v\",\"showlegend\":false,\"x\":[1203,1223,1169,1203,1223,1133,1013,537,333,296,60,7,7,7,941,958,1023,957,1047,747,291],\"xaxis\":\"x3\",\"y\":[3.556607374921441,3.1335166972130537,2.070186184719205,3.556607374921441,3.14878841675818,2.1651103384792805,4.405646655708551,4.562235727906227,6.935548663139343,8.868309289216995,20.06387573480606,35.5733414888382,35.78918743133545,36.36410427093506,7.277697876095772,5.8390756994485855,5.818188592791557,6.629185676574707,6.886964708566666,8.676266744732857,11.588996469974518],\"yaxis\":\"y3\",\"type\":\"scatter\"},{\"customdata\":[[null,0.01],[null,0.04],[null,0.158],[null,0.631],[null,3.0],[null,6.0],[null,9.0],[null,50.0],[null,110.0],[null,170.0],[null,230.0],[null,0.0],[null,0.001],[null,0.006],[null,0.05],[null,0.398],[null,3.162],[null,25.119]],\"hovertemplate\":\"color=sp\\u003cbr\\u003etask=docstring\\u003cbr\\u003ezero-ablation=1\\u003cbr\\u003enumber_of_edges=%{x}\\u003cbr\\u003etest_kl_div=%{y}\\u003cbr\\u003ethreshold=%{customdata[0]}\\u003cbr\\u003elambda-reg=%{customdata[1]}\\u003cextra\\u003e\\u003c\\u002fextra\\u003e\",\"legendgroup\":\"sp\",\"marker\":{\"color\":\"#00cc96\",\"symbol\":\"circle\"},\"mode\":\"markers\",\"name\":\"sp\",\"orientation\":\"v\",\"showlegend\":false,\"x\":[1313,1279,1303,1331,1251,1179,1087,205,38,23,18,1037,935,1117,1023,1097,713,184],\"xaxis\":\"x4\",\"y\":[16.095249205827713,13.474681556224825,20.87450109422207,16.155239388346672,17.394421756267548,17.118532672524452,19.61890009045601,68.7982132434845,83.04306125640869,103.60004377365112,105.36847591400146,82.04663729667664,85.26442861557007,83.72515082359314,78.75224208831787,81.62341451644897,82.20815086364746,98.69189381599426],\"yaxis\":\"y4\",\"type\":\"scatter\"},{\"customdata\":[[null,0.01],[null,0.04],[null,0.158],[null,0.631],[null,3.0],[null,6.0],[null,9.0],[null,50.0],[null,110.0],[null,170.0],[null,230.0],[null,0.0],[null,0.001],[null,0.006],[null,0.05],[null,0.398],[null,3.162],[null,25.119]],\"hovertemplate\":\"color=sp\\u003cbr\\u003etask=ioi\\u003cbr\\u003ezero-ablation=False\\u003cbr\\u003enumber_of_edges=%{x}\\u003cbr\\u003etest_kl_div=%{y}\\u003cbr\\u003ethreshold=%{customdata[0]}\\u003cbr\\u003elambda-reg=%{customdata[1]}\\u003cextra\\u003e\\u003c\\u002fextra\\u003e\",\"legendgroup\":\"sp\",\"marker\":{\"color\":\"#00cc96\",\"symbol\":\"circle\"},\"mode\":\"markers\",\"name\":\"sp\",\"orientation\":\"v\",\"showlegend\":false,\"x\":[27680,28641,25810,17152,6613,4117,3491,1218,294,151,139,23099,24257,23569,23312,23903,20274,10104],\"xaxis\":\"x\",\"y\":[2.124054016545415,1.617719627916813,1.5087102241814137,2.3158253207802773,2.2692347913980484,6.387677647173405,6.53636859357357,23.958065569400787,44.34133529663086,54.66012382507324,56.49493360519409,17.421856582164764,19.131219625473022,18.74758815765381,18.15715754032135,19.11235779523849,20.57440620660782,18.373829305171967],\"yaxis\":\"y\",\"type\":\"scatter\"},{\"customdata\":[[null,0.01],[null,0.04],[null,0.158]],\"hovertemplate\":\"color=sp\\u003cbr\\u003etask=ioi\\u003cbr\\u003ezero-ablation=1\\u003cbr\\u003enumber_of_edges=%{x}\\u003cbr\\u003etest_kl_div=%{y}\\u003cbr\\u003ethreshold=%{customdata[0]}\\u003cbr\\u003elambda-reg=%{customdata[1]}\\u003cextra\\u003e\\u003c\\u002fextra\\u003e\",\"legendgroup\":\"sp\",\"marker\":{\"color\":\"#00cc96\",\"symbol\":\"circle\"},\"mode\":\"markers\",\"name\":\"sp\",\"orientation\":\"v\",\"showlegend\":false,\"x\":[27877,28669,28050],\"xaxis\":\"x2\",\"y\":[8.201889619231224,8.481660023331642,13.043944284319878],\"yaxis\":\"y2\",\"type\":\"scatter\"}],                        {\"template\":{\"data\":{\"histogram2dcontour\":[{\"type\":\"histogram2dcontour\",\"colorbar\":{\"outlinewidth\":0,\"ticks\":\"\"},\"colorscale\":[[0.0,\"#0d0887\"],[0.1111111111111111,\"#46039f\"],[0.2222222222222222,\"#7201a8\"],[0.3333333333333333,\"#9c179e\"],[0.4444444444444444,\"#bd3786\"],[0.5555555555555556,\"#d8576b\"],[0.6666666666666666,\"#ed7953\"],[0.7777777777777778,\"#fb9f3a\"],[0.8888888888888888,\"#fdca26\"],[1.0,\"#f0f921\"]]}],\"choropleth\":[{\"type\":\"choropleth\",\"colorbar\":{\"outlinewidth\":0,\"ticks\":\"\"}}],\"histogram2d\":[{\"type\":\"histogram2d\",\"colorbar\":{\"outlinewidth\":0,\"ticks\":\"\"},\"colorscale\":[[0.0,\"#0d0887\"],[0.1111111111111111,\"#46039f\"],[0.2222222222222222,\"#7201a8\"],[0.3333333333333333,\"#9c179e\"],[0.4444444444444444,\"#bd3786\"],[0.5555555555555556,\"#d8576b\"],[0.6666666666666666,\"#ed7953\"],[0.7777777777777778,\"#fb9f3a\"],[0.8888888888888888,\"#fdca26\"],[1.0,\"#f0f921\"]]}],\"heatmap\":[{\"type\":\"heatmap\",\"colorbar\":{\"outlinewidth\":0,\"ticks\":\"\"},\"colorscale\":[[0.0,\"#0d0887\"],[0.1111111111111111,\"#46039f\"],[0.2222222222222222,\"#7201a8\"],[0.3333333333333333,\"#9c179e\"],[0.4444444444444444,\"#bd3786\"],[0.5555555555555556,\"#d8576b\"],[0.6666666666666666,\"#ed7953\"],[0.7777777777777778,\"#fb9f3a\"],[0.8888888888888888,\"#fdca26\"],[1.0,\"#f0f921\"]]}],\"heatmapgl\":[{\"type\":\"heatmapgl\",\"colorbar\":{\"outlinewidth\":0,\"ticks\":\"\"},\"colorscale\":[[0.0,\"#0d0887\"],[0.1111111111111111,\"#46039f\"],[0.2222222222222222,\"#7201a8\"],[0.3333333333333333,\"#9c179e\"],[0.4444444444444444,\"#bd3786\"],[0.5555555555555556,\"#d8576b\"],[0.6666666666666666,\"#ed7953\"],[0.7777777777777778,\"#fb9f3a\"],[0.8888888888888888,\"#fdca26\"],[1.0,\"#f0f921\"]]}],\"contourcarpet\":[{\"type\":\"contourcarpet\",\"colorbar\":{\"outlinewidth\":0,\"ticks\":\"\"}}],\"contour\":[{\"type\":\"contour\",\"colorbar\":{\"outlinewidth\":0,\"ticks\":\"\"},\"colorscale\":[[0.0,\"#0d0887\"],[0.1111111111111111,\"#46039f\"],[0.2222222222222222,\"#7201a8\"],[0.3333333333333333,\"#9c179e\"],[0.4444444444444444,\"#bd3786\"],[0.5555555555555556,\"#d8576b\"],[0.6666666666666666,\"#ed7953\"],[0.7777777777777778,\"#fb9f3a\"],[0.8888888888888888,\"#fdca26\"],[1.0,\"#f0f921\"]]}],\"surface\":[{\"type\":\"surface\",\"colorbar\":{\"outlinewidth\":0,\"ticks\":\"\"},\"colorscale\":[[0.0,\"#0d0887\"],[0.1111111111111111,\"#46039f\"],[0.2222222222222222,\"#7201a8\"],[0.3333333333333333,\"#9c179e\"],[0.4444444444444444,\"#bd3786\"],[0.5555555555555556,\"#d8576b\"],[0.6666666666666666,\"#ed7953\"],[0.7777777777777778,\"#fb9f3a\"],[0.8888888888888888,\"#fdca26\"],[1.0,\"#f0f921\"]]}],\"mesh3d\":[{\"type\":\"mesh3d\",\"colorbar\":{\"outlinewidth\":0,\"ticks\":\"\"}}],\"scatter\":[{\"fillpattern\":{\"fillmode\":\"overlay\",\"size\":10,\"solidity\":0.2},\"type\":\"scatter\"}],\"parcoords\":[{\"type\":\"parcoords\",\"line\":{\"colorbar\":{\"outlinewidth\":0,\"ticks\":\"\"}}}],\"scatterpolargl\":[{\"type\":\"scatterpolargl\",\"marker\":{\"colorbar\":{\"outlinewidth\":0,\"ticks\":\"\"}}}],\"bar\":[{\"error_x\":{\"color\":\"#2a3f5f\"},\"error_y\":{\"color\":\"#2a3f5f\"},\"marker\":{\"line\":{\"color\":\"#E5ECF6\",\"width\":0.5},\"pattern\":{\"fillmode\":\"overlay\",\"size\":10,\"solidity\":0.2}},\"type\":\"bar\"}],\"scattergeo\":[{\"type\":\"scattergeo\",\"marker\":{\"colorbar\":{\"outlinewidth\":0,\"ticks\":\"\"}}}],\"scatterpolar\":[{\"type\":\"scatterpolar\",\"marker\":{\"colorbar\":{\"outlinewidth\":0,\"ticks\":\"\"}}}],\"histogram\":[{\"marker\":{\"pattern\":{\"fillmode\":\"overlay\",\"size\":10,\"solidity\":0.2}},\"type\":\"histogram\"}],\"scattergl\":[{\"type\":\"scattergl\",\"marker\":{\"colorbar\":{\"outlinewidth\":0,\"ticks\":\"\"}}}],\"scatter3d\":[{\"type\":\"scatter3d\",\"line\":{\"colorbar\":{\"outlinewidth\":0,\"ticks\":\"\"}},\"marker\":{\"colorbar\":{\"outlinewidth\":0,\"ticks\":\"\"}}}],\"scattermapbox\":[{\"type\":\"scattermapbox\",\"marker\":{\"colorbar\":{\"outlinewidth\":0,\"ticks\":\"\"}}}],\"scatterternary\":[{\"type\":\"scatterternary\",\"marker\":{\"colorbar\":{\"outlinewidth\":0,\"ticks\":\"\"}}}],\"scattercarpet\":[{\"type\":\"scattercarpet\",\"marker\":{\"colorbar\":{\"outlinewidth\":0,\"ticks\":\"\"}}}],\"carpet\":[{\"aaxis\":{\"endlinecolor\":\"#2a3f5f\",\"gridcolor\":\"white\",\"linecolor\":\"white\",\"minorgridcolor\":\"white\",\"startlinecolor\":\"#2a3f5f\"},\"baxis\":{\"endlinecolor\":\"#2a3f5f\",\"gridcolor\":\"white\",\"linecolor\":\"white\",\"minorgridcolor\":\"white\",\"startlinecolor\":\"#2a3f5f\"},\"type\":\"carpet\"}],\"table\":[{\"cells\":{\"fill\":{\"color\":\"#EBF0F8\"},\"line\":{\"color\":\"white\"}},\"header\":{\"fill\":{\"color\":\"#C8D4E3\"},\"line\":{\"color\":\"white\"}},\"type\":\"table\"}],\"barpolar\":[{\"marker\":{\"line\":{\"color\":\"#E5ECF6\",\"width\":0.5},\"pattern\":{\"fillmode\":\"overlay\",\"size\":10,\"solidity\":0.2}},\"type\":\"barpolar\"}],\"pie\":[{\"automargin\":true,\"type\":\"pie\"}]},\"layout\":{\"autotypenumbers\":\"strict\",\"colorway\":[\"#636efa\",\"#EF553B\",\"#00cc96\",\"#ab63fa\",\"#FFA15A\",\"#19d3f3\",\"#FF6692\",\"#B6E880\",\"#FF97FF\",\"#FECB52\"],\"font\":{\"color\":\"#2a3f5f\"},\"hovermode\":\"closest\",\"hoverlabel\":{\"align\":\"left\"},\"paper_bgcolor\":\"white\",\"plot_bgcolor\":\"#E5ECF6\",\"polar\":{\"bgcolor\":\"#E5ECF6\",\"angularaxis\":{\"gridcolor\":\"white\",\"linecolor\":\"white\",\"ticks\":\"\"},\"radialaxis\":{\"gridcolor\":\"white\",\"linecolor\":\"white\",\"ticks\":\"\"}},\"ternary\":{\"bgcolor\":\"#E5ECF6\",\"aaxis\":{\"gridcolor\":\"white\",\"linecolor\":\"white\",\"ticks\":\"\"},\"baxis\":{\"gridcolor\":\"white\",\"linecolor\":\"white\",\"ticks\":\"\"},\"caxis\":{\"gridcolor\":\"white\",\"linecolor\":\"white\",\"ticks\":\"\"}},\"coloraxis\":{\"colorbar\":{\"outlinewidth\":0,\"ticks\":\"\"}},\"colorscale\":{\"sequential\":[[0.0,\"#0d0887\"],[0.1111111111111111,\"#46039f\"],[0.2222222222222222,\"#7201a8\"],[0.3333333333333333,\"#9c179e\"],[0.4444444444444444,\"#bd3786\"],[0.5555555555555556,\"#d8576b\"],[0.6666666666666666,\"#ed7953\"],[0.7777777777777778,\"#fb9f3a\"],[0.8888888888888888,\"#fdca26\"],[1.0,\"#f0f921\"]],\"sequentialminus\":[[0.0,\"#0d0887\"],[0.1111111111111111,\"#46039f\"],[0.2222222222222222,\"#7201a8\"],[0.3333333333333333,\"#9c179e\"],[0.4444444444444444,\"#bd3786\"],[0.5555555555555556,\"#d8576b\"],[0.6666666666666666,\"#ed7953\"],[0.7777777777777778,\"#fb9f3a\"],[0.8888888888888888,\"#fdca26\"],[1.0,\"#f0f921\"]],\"diverging\":[[0,\"#8e0152\"],[0.1,\"#c51b7d\"],[0.2,\"#de77ae\"],[0.3,\"#f1b6da\"],[0.4,\"#fde0ef\"],[0.5,\"#f7f7f7\"],[0.6,\"#e6f5d0\"],[0.7,\"#b8e186\"],[0.8,\"#7fbc41\"],[0.9,\"#4d9221\"],[1,\"#276419\"]]},\"xaxis\":{\"gridcolor\":\"white\",\"linecolor\":\"white\",\"ticks\":\"\",\"title\":{\"standoff\":15},\"zerolinecolor\":\"white\",\"automargin\":true,\"zerolinewidth\":2},\"yaxis\":{\"gridcolor\":\"white\",\"linecolor\":\"white\",\"ticks\":\"\",\"title\":{\"standoff\":15},\"zerolinecolor\":\"white\",\"automargin\":true,\"zerolinewidth\":2},\"scene\":{\"xaxis\":{\"backgroundcolor\":\"#E5ECF6\",\"gridcolor\":\"white\",\"linecolor\":\"white\",\"showbackground\":true,\"ticks\":\"\",\"zerolinecolor\":\"white\",\"gridwidth\":2},\"yaxis\":{\"backgroundcolor\":\"#E5ECF6\",\"gridcolor\":\"white\",\"linecolor\":\"white\",\"showbackground\":true,\"ticks\":\"\",\"zerolinecolor\":\"white\",\"gridwidth\":2},\"zaxis\":{\"backgroundcolor\":\"#E5ECF6\",\"gridcolor\":\"white\",\"linecolor\":\"white\",\"showbackground\":true,\"ticks\":\"\",\"zerolinecolor\":\"white\",\"gridwidth\":2}},\"shapedefaults\":{\"line\":{\"color\":\"#2a3f5f\"}},\"annotationdefaults\":{\"arrowcolor\":\"#2a3f5f\",\"arrowhead\":0,\"arrowwidth\":1},\"geo\":{\"bgcolor\":\"white\",\"landcolor\":\"#E5ECF6\",\"subunitcolor\":\"white\",\"showland\":true,\"showlakes\":true,\"lakecolor\":\"white\"},\"title\":{\"x\":0.05},\"mapbox\":{\"style\":\"light\"}}},\"xaxis\":{\"anchor\":\"y\",\"domain\":[0.0,0.48],\"title\":{\"text\":\"number_of_edges\"}},\"yaxis\":{\"anchor\":\"x\",\"domain\":[0.0,0.17600000000000002],\"title\":{\"text\":\"test_kl_div\"}},\"xaxis2\":{\"anchor\":\"y2\",\"domain\":[0.5,0.98],\"matches\":\"x\",\"title\":{\"text\":\"number_of_edges\"}},\"yaxis2\":{\"anchor\":\"x2\",\"domain\":[0.0,0.17600000000000002],\"matches\":\"y\",\"showticklabels\":false},\"xaxis3\":{\"anchor\":\"y3\",\"domain\":[0.0,0.48],\"matches\":\"x\",\"showticklabels\":false},\"yaxis3\":{\"anchor\":\"x3\",\"domain\":[0.20600000000000002,0.382],\"matches\":\"y\",\"title\":{\"text\":\"test_kl_div\"}},\"xaxis4\":{\"anchor\":\"y4\",\"domain\":[0.5,0.98],\"matches\":\"x\",\"showticklabels\":false},\"yaxis4\":{\"anchor\":\"x4\",\"domain\":[0.20600000000000002,0.382],\"matches\":\"y\",\"showticklabels\":false},\"xaxis5\":{\"anchor\":\"y5\",\"domain\":[0.0,0.48],\"matches\":\"x\",\"showticklabels\":false},\"yaxis5\":{\"anchor\":\"x5\",\"domain\":[0.41200000000000003,0.5880000000000001],\"matches\":\"y\",\"title\":{\"text\":\"test_kl_div\"}},\"xaxis6\":{\"anchor\":\"y6\",\"domain\":[0.5,0.98],\"matches\":\"x\",\"showticklabels\":false},\"yaxis6\":{\"anchor\":\"x6\",\"domain\":[0.41200000000000003,0.5880000000000001],\"matches\":\"y\",\"showticklabels\":false},\"xaxis7\":{\"anchor\":\"y7\",\"domain\":[0.0,0.48],\"matches\":\"x\",\"showticklabels\":false},\"yaxis7\":{\"anchor\":\"x7\",\"domain\":[0.618,0.794],\"matches\":\"y\",\"title\":{\"text\":\"test_kl_div\"}},\"xaxis8\":{\"anchor\":\"y8\",\"domain\":[0.5,0.98],\"matches\":\"x\",\"showticklabels\":false},\"yaxis8\":{\"anchor\":\"x8\",\"domain\":[0.618,0.794],\"matches\":\"y\",\"showticklabels\":false},\"xaxis9\":{\"anchor\":\"y9\",\"domain\":[0.0,0.48],\"matches\":\"x\",\"showticklabels\":false},\"yaxis9\":{\"anchor\":\"x9\",\"domain\":[0.8240000000000001,1.0],\"matches\":\"y\",\"title\":{\"text\":\"test_kl_div\"}},\"xaxis10\":{\"anchor\":\"y10\",\"domain\":[0.5,0.98],\"matches\":\"x\",\"showticklabels\":false},\"yaxis10\":{\"anchor\":\"x10\",\"domain\":[0.8240000000000001,1.0],\"matches\":\"y\",\"showticklabels\":false},\"annotations\":[{\"font\":{},\"showarrow\":false,\"text\":\"zero-ablation=False\",\"x\":0.24,\"xanchor\":\"center\",\"xref\":\"paper\",\"y\":1.0,\"yanchor\":\"bottom\",\"yref\":\"paper\"},{\"font\":{},\"showarrow\":false,\"text\":\"zero-ablation=1\",\"x\":0.74,\"xanchor\":\"center\",\"xref\":\"paper\",\"y\":1.0,\"yanchor\":\"bottom\",\"yref\":\"paper\"},{\"font\":{},\"showarrow\":false,\"text\":\"task=ioi\",\"textangle\":90,\"x\":0.98,\"xanchor\":\"left\",\"xref\":\"paper\",\"y\":0.08800000000000001,\"yanchor\":\"middle\",\"yref\":\"paper\"},{\"font\":{},\"showarrow\":false,\"text\":\"task=docstring\",\"textangle\":90,\"x\":0.98,\"xanchor\":\"left\",\"xref\":\"paper\",\"y\":0.29400000000000004,\"yanchor\":\"middle\",\"yref\":\"paper\"},{\"font\":{},\"showarrow\":false,\"text\":\"task=induction\",\"textangle\":90,\"x\":0.98,\"xanchor\":\"left\",\"xref\":\"paper\",\"y\":0.5,\"yanchor\":\"middle\",\"yref\":\"paper\"},{\"font\":{},\"showarrow\":false,\"text\":\"task=tracr-proportion\",\"textangle\":90,\"x\":0.98,\"xanchor\":\"left\",\"xref\":\"paper\",\"y\":0.706,\"yanchor\":\"middle\",\"yref\":\"paper\"},{\"font\":{},\"showarrow\":false,\"text\":\"task=tracr-reverse\",\"textangle\":90,\"x\":0.98,\"xanchor\":\"left\",\"xref\":\"paper\",\"y\":0.912,\"yanchor\":\"middle\",\"yref\":\"paper\"}],\"legend\":{\"title\":{\"text\":\"color\"},\"tracegroupgap\":0},\"title\":{\"text\":\"kl_divergence vs number of edges metric\"}},                        {\"responsive\": true}                    ).then(function(){\n",
       "                            \n",
       "var gd = document.getElementById('a8b4ae88-a281-411f-a7f6-8663a3f5f80a');\n",
       "var x = new MutationObserver(function (mutations, observer) {{\n",
       "        var display = window.getComputedStyle(gd).display;\n",
       "        if (!display || display === 'none') {{\n",
       "            console.log([gd, 'removed!']);\n",
       "            Plotly.purge(gd);\n",
       "            observer.disconnect();\n",
       "        }}\n",
       "}});\n",
       "\n",
       "// Listen for the removal of the full notebook cells\n",
       "var notebookContainer = gd.closest('#notebook-container');\n",
       "if (notebookContainer) {{\n",
       "    x.observe(notebookContainer, {childList: true});\n",
       "}}\n",
       "\n",
       "// Listen for the clearing of the current output cell\n",
       "var outputEl = gd.closest('.output');\n",
       "if (outputEl) {{\n",
       "    x.observe(outputEl, {childList: true});\n",
       "}}\n",
       "\n",
       "                        })                };                });            </script>        </div>"
      ]
     },
     "metadata": {},
     "output_type": "display_data"
    }
   ],
   "source": [
    "\n",
    "# Scatter plot of num_edges vs cur_metric grouped by reset_network\n",
    "\n",
    "fig = px.scatter(\n",
    "    all_runs_merged,\n",
    "    x=\"number_of_edges\",\n",
    "    y=\"test_kl_div\",\n",
    "    color=\"color\",\n",
    "    color_discrete_map={\n",
    "        \"acdc\": \"red\",\n",
    "        # \"acdc-reset=1\": \"blue\",\n",
    "        # \"subnetwork-probing-reset=0\": \"orange\",\n",
    "        \"subnetwork-probing\": \"green\",\n",
    "    },\n",
    "    facet_col=\"zero-ablation\",\n",
    "    facet_row=\"task\",\n",
    "    facet_col_wrap=2,\n",
    "    hover_data=[\"threshold\", \"lambda-reg\"],\n",
    "    title=\"kl_divergence vs number of edges metric\",\n",
    ")\n",
    "fig.show()\n"
   ]
  },
  {
   "cell_type": "code",
   "execution_count": null,
   "metadata": {},
   "outputs": [],
   "source": [
    "\n",
    "# %%\n",
    "\n",
    "fig = px.scatter(\n",
    "    df,\n",
    "    x=\"num_edges\",\n",
    "    y=\"test_specific_metric\",\n",
    "    color=\"color\",\n",
    "    color_discrete_map={\n",
    "        \"acdc-reset=0\": \"red\",\n",
    "        \"acdc-reset=1\": \"blue\",\n",
    "        \"subnetwork-probing-reset=0\": \"orange\",\n",
    "        \"subnetwork-probing-reset=1\": \"green\",\n",
    "    },\n",
    "    facet_col=\"zero_ablation\",\n",
    "    facet_row=\"loss_type\",\n",
    "    facet_col_wrap=2,\n",
    "    hover_data=[\"threshold\", \"lambda_reg\"],\n",
    "    title=\"Induction, TEST metric\",\n",
    ")\n",
    "fig.show()\n"
   ]
  }
 ],
 "metadata": {
  "kernelspec": {
   "display_name": "conda_jailbreak",
   "language": "python",
   "name": "python3"
  },
  "language_info": {
   "codemirror_mode": {
    "name": "ipython",
    "version": 3
   },
   "file_extension": ".py",
   "mimetype": "text/x-python",
   "name": "python",
   "nbconvert_exporter": "python",
   "pygments_lexer": "ipython3",
   "version": "3.10.14"
  }
 },
 "nbformat": 4,
 "nbformat_minor": 2
}
